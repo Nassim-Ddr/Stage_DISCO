{
 "cells": [
  {
   "cell_type": "code",
   "execution_count": 5,
   "id": "c3768034",
   "metadata": {},
   "outputs": [
    {
     "name": "stderr",
     "output_type": "stream",
     "text": [
      "C:\\Users\\xia\\AppData\\Local\\Temp\\ipykernel_7760\\3802281906.py:8: DeprecationWarning: Please use `loadmat` from the `scipy.io.matlab` namespace, the `scipy.io.matlab.mio` namespace is deprecated.\n",
      "  from scipy.io.matlab.mio import loadmat, savemat\n",
      "C:\\Users\\xia\\AppData\\Local\\Temp\\ipykernel_7760\\3802281906.py:8: DeprecationWarning: Please use `savemat` from the `scipy.io.matlab` namespace, the `scipy.io.matlab.mio` namespace is deprecated.\n",
      "  from scipy.io.matlab.mio import loadmat, savemat\n"
     ]
    }
   ],
   "source": [
    "import torch\n",
    "from torch import nn\n",
    "from torch.utils.data import DataLoader\n",
    "from torchvision import datasets\n",
    "from torchvision.transforms import ToTensor\n",
    "import matplotlib.pyplot as plt\n",
    "import os\n",
    "from scipy.io.matlab.mio import loadmat, savemat\n",
    "import numpy as np\n",
    "from PIL import Image\n",
    "import torchvision\n",
    "from torchvision.transforms import transforms\n",
    "from torch.utils.data import DataLoader\n",
    "from torch import nn, optim\n",
    "import shutil\n",
    "from sklearn.model_selection import train_test_split\n",
    "import pandas as pd\n",
    "from sklearn.preprocessing import normalize\n",
    "import matplotlib.pyplot as plt\n",
    "from sklearn import preprocessing\n",
    "from sklearn.metrics import roc_auc_score\n",
    "from sklearn.metrics import precision_score\n",
    "from sklearn.metrics import recall_score\n",
    "from sklearn.metrics import confusion_matrix, ConfusionMatrixDisplay"
   ]
  },
  {
   "cell_type": "code",
   "execution_count": 6,
   "id": "2c8185eb",
   "metadata": {},
   "outputs": [],
   "source": [
    "def getData(filename1,filename2, remove_duplicata = True):\n",
    "    df1 = pd.read_csv(filename1)\n",
    "    df1.drop(df1.columns[len(df1.columns)-1], axis=1,inplace = True)\n",
    "    df2 = pd.read_csv(filename2)\n",
    "    X1 = df1.to_numpy()\n",
    "    X2 = df2.to_numpy()\n",
    "    s1, s2 = X1.shape[1], X2.shape[1]\n",
    "    X11, X12 = X1[:,s1//2:], X1[:,:s1//2]\n",
    "    X21, X22 = X2[:,s1//2:], X2[:,:s1//2]\n",
    "    X = np.hstack((X11,X21,X12,X22))\n",
    "    return X[:,:-1], X[:,-1]"
   ]
  },
  {
   "cell_type": "code",
   "execution_count": 7,
   "id": "9e6ec484",
   "metadata": {},
   "outputs": [],
   "source": [
    "def extractdata(filename, remove_duplicata = True):\n",
    "    with open(filename) as f:\n",
    "        df = pd.read_csv(f)\n",
    "        if remove_duplicata:\n",
    "            df = df.drop_duplicates()\n",
    "        X = df.to_numpy()\n",
    "    return X[:,:-1], X[:,-1]\n"
   ]
  },
  {
   "cell_type": "code",
   "execution_count": 8,
   "id": "540b1383",
   "metadata": {},
   "outputs": [],
   "source": [
    "X,Y = extractdata(\"dataBow.csv\")\n",
    "X=X.astype(\"int64\")\n",
    "X=np.unique(X,axis=0,return_index=True)\n",
    "X,index = X\n",
    "Y = Y[index]"
   ]
  },
  {
   "cell_type": "code",
   "execution_count": 9,
   "id": "0c43c4f6",
   "metadata": {},
   "outputs": [
    {
     "name": "stdout",
     "output_type": "stream",
     "text": [
      "['WriteWord' 'WriteWord' 'WriteWord' ... 'copyPaste' 'replace' 'replace']\n"
     ]
    }
   ],
   "source": [
    "print(Y)"
   ]
  },
  {
   "cell_type": "code",
   "execution_count": 10,
   "id": "01fef49c",
   "metadata": {},
   "outputs": [
    {
     "data": {
      "text/plain": [
       "(72854, 5762)"
      ]
     },
     "execution_count": 10,
     "metadata": {},
     "output_type": "execute_result"
    }
   ],
   "source": [
    "X.shape"
   ]
  },
  {
   "cell_type": "code",
   "execution_count": 11,
   "id": "9527872c",
   "metadata": {},
   "outputs": [
    {
     "name": "stdout",
     "output_type": "stream",
     "text": [
      "(72854, 2881)\n"
     ]
    }
   ],
   "source": [
    "\n",
    "le = preprocessing.LabelEncoder()\n",
    "newX = normalize(X)\n",
    "\n",
    "tmp = X[:,X.shape[1]//2:]\n",
    "anotherX = X[:,:X.shape[1]//2]-tmp\n",
    "print(anotherX.shape)\n",
    "anotherX = normalize(anotherX)\n",
    "le.fit(Y)\n",
    "Ynum = le.transform(Y)"
   ]
  },
  {
   "cell_type": "code",
   "execution_count": 12,
   "id": "77aedf6c",
   "metadata": {},
   "outputs": [
    {
     "data": {
      "text/plain": [
       "array(['WriteWord', 'copyPaste', 'deleteWord', 'replace'], dtype=object)"
      ]
     },
     "execution_count": 12,
     "metadata": {},
     "output_type": "execute_result"
    }
   ],
   "source": [
    "le.classes_"
   ]
  },
  {
   "cell_type": "code",
   "execution_count": 13,
   "id": "62b80b59",
   "metadata": {},
   "outputs": [],
   "source": [
    "dataset = torch.utils.data.TensorDataset(torch.Tensor(anotherX),torch.Tensor(Ynum).type(torch.LongTensor))"
   ]
  },
  {
   "cell_type": "code",
   "execution_count": 14,
   "id": "c9a57c53",
   "metadata": {},
   "outputs": [
    {
     "name": "stdout",
     "output_type": "stream",
     "text": [
      "Using cpu device\n"
     ]
    }
   ],
   "source": [
    "device = (\n",
    "    \"cuda\"\n",
    "    if torch.cuda.is_available()\n",
    "    else \"mps\"\n",
    "    if torch.backends.mps.is_available()\n",
    "    else \"cpu\"\n",
    ")\n",
    "print(f\"Using {device} device\")"
   ]
  },
  {
   "cell_type": "code",
   "execution_count": 15,
   "id": "4c1cb9f6",
   "metadata": {},
   "outputs": [
    {
     "data": {
      "text/plain": [
       "(array([0, 1, 2, 3]), array([44054,  9720,  9077, 10003], dtype=int64))"
      ]
     },
     "execution_count": 15,
     "metadata": {},
     "output_type": "execute_result"
    }
   ],
   "source": [
    "np.unique(Ynum, return_counts=True)"
   ]
  },
  {
   "cell_type": "code",
   "execution_count": 16,
   "id": "2046c7a0",
   "metadata": {},
   "outputs": [],
   "source": [
    "import torch\n",
    "import torch.nn as nn\n",
    "import torch.nn.functional as F\n",
    "\n",
    "class NeuralNetwork(nn.Module):\n",
    "    def __init__(self):\n",
    "        super().__init__()\n",
    "        self.flatten = nn.Flatten()\n",
    "        self.linear_relu_stack = nn.Sequential(\n",
    "            nn.Linear(2881, 256),\n",
    "            nn.ReLU(),\n",
    "            nn.Linear(256, 256),\n",
    "            nn.ReLU(),\n",
    "            nn.Linear(256, 128),\n",
    "            nn.ReLU(),\n",
    "            nn.Linear(128, 4)\n",
    "        )\n",
    "\n",
    "    def forward(self, x):\n",
    "        x = self.flatten(x)\n",
    "        logits = self.linear_relu_stack(x)\n",
    "        return logits\n"
   ]
  },
  {
   "cell_type": "code",
   "execution_count": 17,
   "id": "2ee2d729",
   "metadata": {},
   "outputs": [],
   "source": [
    "def train(dataloader, model, loss_fn, optimizer):\n",
    "    size = len(dataloader.dataset)\n",
    "    model.train()\n",
    "    for batch, (X, y) in enumerate(dataloader):\n",
    "        X, y = X.to(device), y.to(device)\n",
    "\n",
    "        # Compute prediction error\n",
    "        pred = model(X)\n",
    "        \n",
    "        # For BCELoss\n",
    "        #y = y.unsqueeze(1)\n",
    "        #y = y.float()\n",
    "        loss = loss_fn(pred, y)\n",
    "\n",
    "        # Backpropagation\n",
    "        loss.backward()\n",
    "        optimizer.step()\n",
    "        optimizer.zero_grad()\n",
    "\n",
    "        if batch % 100 == 0:\n",
    "            loss, current = loss.item(), (batch + 1) * len(X)\n",
    "            print(f\"loss: {loss:>7f}  [{current:>5d}/{size:>5d}]\")"
   ]
  },
  {
   "cell_type": "code",
   "execution_count": 18,
   "id": "4e08e776",
   "metadata": {},
   "outputs": [],
   "source": [
    "def test(dataloader, model, loss_fn):\n",
    "    size = len(dataloader.dataset)\n",
    "    num_batches = len(dataloader)\n",
    "    model.eval()\n",
    "    test_loss, correct = 0, 0\n",
    "    with torch.no_grad():\n",
    "        for X, y in dataloader:\n",
    "            X, y = X.to(device), y.to(device)\n",
    "            pred = model(X)\n",
    "            \n",
    "            # For BCELoss\n",
    "            #y = y.unsqueeze(1)\n",
    "            #y = y.float()\n",
    "            test_loss += loss_fn(pred, y).item()\n",
    "            correct += (pred.argmax(1) == y).type(torch.float).sum().item()\n",
    "            \n",
    "            # BCELoss\n",
    "            #pred = (pred > 0.5).long()\n",
    "            #correct += (pred == y).type(torch.float).sum().item()\n",
    "\n",
    "    test_loss /= num_batches\n",
    "    correct /= size\n",
    "    print(f\"Test Error: \\n Accuracy: {(100*correct):>0.1f}%, Avg loss: {test_loss:>8f} \\n\")"
   ]
  },
  {
   "cell_type": "code",
   "execution_count": 19,
   "id": "84729ad6",
   "metadata": {
    "scrolled": true
   },
   "outputs": [
    {
     "name": "stdout",
     "output_type": "stream",
     "text": [
      "Epoch 1\n",
      "-------------------------------\n",
      "loss: 1.382570  [ 2000/58283]\n",
      "Test Error: \n",
      " Accuracy: 72.9%, Avg loss: 0.898151 \n",
      "\n",
      "Epoch 2\n",
      "-------------------------------\n",
      "loss: 0.852069  [ 2000/58283]\n",
      "Test Error: \n",
      " Accuracy: 75.4%, Avg loss: 0.614323 \n",
      "\n",
      "Epoch 3\n",
      "-------------------------------\n",
      "loss: 0.632484  [ 2000/58283]\n",
      "Test Error: \n",
      " Accuracy: 80.2%, Avg loss: 0.498434 \n",
      "\n",
      "Epoch 4\n",
      "-------------------------------\n",
      "loss: 0.474506  [ 2000/58283]\n",
      "Test Error: \n",
      " Accuracy: 91.2%, Avg loss: 0.249102 \n",
      "\n",
      "Epoch 5\n",
      "-------------------------------\n",
      "loss: 0.214423  [ 2000/58283]\n",
      "Test Error: \n",
      " Accuracy: 95.4%, Avg loss: 0.150456 \n",
      "\n",
      "Epoch 6\n",
      "-------------------------------\n",
      "loss: 0.112512  [ 2000/58283]\n",
      "Test Error: \n",
      " Accuracy: 96.2%, Avg loss: 0.121275 \n",
      "\n",
      "Epoch 7\n",
      "-------------------------------\n",
      "loss: 0.099945  [ 2000/58283]\n",
      "Test Error: \n",
      " Accuracy: 96.6%, Avg loss: 0.103496 \n",
      "\n",
      "Epoch 8\n",
      "-------------------------------\n",
      "loss: 0.070569  [ 2000/58283]\n",
      "Test Error: \n",
      " Accuracy: 97.8%, Avg loss: 0.082189 \n",
      "\n",
      "Epoch 9\n",
      "-------------------------------\n",
      "loss: 0.051730  [ 2000/58283]\n",
      "Test Error: \n",
      " Accuracy: 98.1%, Avg loss: 0.065608 \n",
      "\n",
      "Epoch 10\n",
      "-------------------------------\n",
      "loss: 0.043445  [ 2000/58283]\n",
      "Test Error: \n",
      " Accuracy: 98.1%, Avg loss: 0.060624 \n",
      "\n",
      "Epoch 11\n",
      "-------------------------------\n",
      "loss: 0.032331  [ 2000/58283]\n",
      "Test Error: \n",
      " Accuracy: 98.9%, Avg loss: 0.048848 \n",
      "\n",
      "Epoch 12\n",
      "-------------------------------\n",
      "loss: 0.027391  [ 2000/58283]\n",
      "Test Error: \n",
      " Accuracy: 98.8%, Avg loss: 0.046614 \n",
      "\n",
      "Epoch 13\n",
      "-------------------------------\n",
      "loss: 0.020814  [ 2000/58283]\n",
      "Test Error: \n",
      " Accuracy: 99.0%, Avg loss: 0.042011 \n",
      "\n",
      "Epoch 14\n",
      "-------------------------------\n",
      "loss: 0.014449  [ 2000/58283]\n",
      "Test Error: \n",
      " Accuracy: 99.1%, Avg loss: 0.039600 \n",
      "\n",
      "Epoch 15\n",
      "-------------------------------\n",
      "loss: 0.010489  [ 2000/58283]\n",
      "Test Error: \n",
      " Accuracy: 98.8%, Avg loss: 0.044347 \n",
      "\n",
      "Epoch 16\n",
      "-------------------------------\n",
      "loss: 0.016838  [ 2000/58283]\n",
      "Test Error: \n",
      " Accuracy: 99.2%, Avg loss: 0.038801 \n",
      "\n",
      "Epoch 17\n",
      "-------------------------------\n",
      "loss: 0.007859  [ 2000/58283]\n",
      "Test Error: \n",
      " Accuracy: 99.2%, Avg loss: 0.036308 \n",
      "\n",
      "Epoch 18\n",
      "-------------------------------\n",
      "loss: 0.011909  [ 2000/58283]\n",
      "Test Error: \n",
      " Accuracy: 99.1%, Avg loss: 0.039082 \n",
      "\n",
      "Epoch 19\n",
      "-------------------------------\n",
      "loss: 0.005822  [ 2000/58283]\n",
      "Test Error: \n",
      " Accuracy: 99.1%, Avg loss: 0.040606 \n",
      "\n",
      "Epoch 20\n",
      "-------------------------------\n",
      "loss: 0.012906  [ 2000/58283]\n",
      "Test Error: \n",
      " Accuracy: 99.1%, Avg loss: 0.041237 \n",
      "\n",
      "Done!\n"
     ]
    }
   ],
   "source": [
    "epochs = 20\n",
    "\n",
    "model = NeuralNetwork().to(device)\n",
    "loss_fn = nn.CrossEntropyLoss()\n",
    "#loss_fn = nn.BCELoss()\n",
    "optimizer = torch.optim.Adam(model.parameters(), lr=1e-3,weight_decay=1e-5)\n",
    "train_data, test_data = train_test_split(dataset, test_size=0.2, random_state=42)\n",
    "\n",
    "\n",
    "# Create the data loaders for training and validation\n",
    "train_dataloader = torch.utils.data.DataLoader(\n",
    "    train_data,\n",
    "    batch_size=2000,\n",
    "    shuffle=True\n",
    ")\n",
    "\n",
    "test_dataloader = torch.utils.data.DataLoader(\n",
    "    test_data,\n",
    "    batch_size=2000,\n",
    "    shuffle=False\n",
    ")\n",
    "\n",
    "for t in range(epochs):\n",
    "    print(f\"Epoch {t+1}\\n-------------------------------\")\n",
    "    train(train_dataloader, model, loss_fn, optimizer)\n",
    "    #test(test_dataloader, model, loss_fn)\n",
    "    test(test_dataloader, model, loss_fn)\n",
    "print(\"Done!\")"
   ]
  },
  {
   "cell_type": "code",
   "execution_count": 24,
   "id": "56beb939",
   "metadata": {},
   "outputs": [
    {
     "data": {
      "image/png": "[encoded data removed]",
      "text/plain": [
       "<Figure size 640x480 with 2 Axes>"
      ]
     },
     "metadata": {},
     "output_type": "display_data"
    }
   ],
   "source": [
    "#\n",
    "commandes = [\"WriteWord\",\"CopyPaste (CTRL + C -> CTRL + V)\",\"WordDel (CTRL + Backspace)\",\"Search&Replace (CTRL + R)\"]\n",
    "\n",
    "from sklearn.metrics import confusion_matrix, ConfusionMatrixDisplay\n",
    "\n",
    "#Used to calculate the confusion matrix\n",
    "y_true = []\n",
    "y_pred = []\n",
    "predictions = []\n",
    "for X,y in test_dataloader:\n",
    "    y_true.extend(y.data.cpu().numpy())\n",
    "\n",
    "    X, y = X.to(device), y.to(device)\n",
    "    pred = model(X)\n",
    "    pred = pred.softmax(dim=1)\n",
    "    predictions.extend(pred.tolist())\n",
    "    y_pred.extend(pred.argmax(1).data.cpu().numpy())\n",
    "    \n",
    "    #pred = (pred > 0.5).long()\n",
    "    #y_pred.extend(pred.data.cpu().numpy())\n",
    "\n",
    "conf_matrix = confusion_matrix(y_true, y_pred)\n",
    "disp = ConfusionMatrixDisplay(confusion_matrix=conf_matrix, display_labels=commandes)\n",
    "disp.plot()\n",
    "plt.xticks(rotation=90)\n",
    "plt.show()\n",
    "\n",
    "FP = conf_matrix.sum(axis=0) - np.diag(conf_matrix)  \n",
    "FN = conf_matrix.sum(axis=1) - np.diag(conf_matrix)\n",
    "TP = np.diag(conf_matrix)\n",
    "TN = conf_matrix.sum() - (FP + FN + TP)\n"
   ]
  },
  {
   "cell_type": "code",
   "execution_count": 22,
   "id": "bb67ee0e",
   "metadata": {},
   "outputs": [
    {
     "name": "stdout",
     "output_type": "stream",
     "text": [
      "Precision : {'WriteWord': 0.995, 'copyPaste': 0.997, 'deleteWord': 0.966, 'replace': 0.988}\n",
      "\n",
      "\n",
      "Rappel : {'WriteWord': 0.998, 'copyPaste': 0.988, 'deleteWord': 0.995, 'replace': 0.954}\n",
      "\n",
      "\n",
      "FPR :  {'WriteWord': 0.008032128514056224, 'copyPaste': 0.0003956635277360133, 'deleteWord': 0.00493730407523511, 'replace': 0.0018269918182540314}\n",
      "\n",
      "\n",
      "ROC AUC SCORE : 0.9985475235409128\n"
     ]
    }
   ],
   "source": [
    "prec = np.round(precision_score(y_true, y_pred, average=None), 3)\n",
    "rap = np.round(recall_score(y_true, y_pred, average=None), 3)\n",
    "FPR = FP/(FP+TN)\n",
    "print(\"Precision :\",dict(zip(le.classes_, prec)))\n",
    "print(\"\\n\")\n",
    "print(\"Rappel :\", dict(zip(le.classes_, rap)))\n",
    "print(\"\\n\")\n",
    "#print(\"FPR : \",dict(zip(le.classes_, FP/conf_matrix.sum(axis=0))))\n",
    "print(\"FPR : \",dict(zip(le.classes_, FPR)))\n",
    "print(\"\\n\")\n",
    "print(\"ROC AUC SCORE :\",roc_auc_score(y_true, predictions, multi_class='ovr'))"
   ]
  },
  {
   "cell_type": "code",
   "execution_count": 44,
   "id": "501ae3dd",
   "metadata": {},
   "outputs": [
    {
     "data": {
      "text/plain": [
       "array([0.99813612, 0.99611902, 0.97960294, 0.97406932])"
      ]
     },
     "execution_count": 44,
     "metadata": {},
     "output_type": "execute_result"
    }
   ],
   "source": [
    "f1_score(y_true, y_pred, average=None)"
   ]
  },
  {
   "cell_type": "code",
   "execution_count": 55,
   "id": "8234045f",
   "metadata": {},
   "outputs": [
    {
     "name": "stdout",
     "output_type": "stream",
     "text": [
      "Accuracy avant:  0.9927252762336147\n",
      "Accuracy après:  0.9968465311843028\n",
      "pred restantes:  14270\n",
      "pred supprimees:  301\n",
      "pourcentage restant:  0.9793425296822456\n"
     ]
    },
    {
     "data": {
      "image/png": "[encoded data removed]",
      "text/plain": [
       "<Figure size 640x480 with 2 Axes>"
      ]
     },
     "metadata": {},
     "output_type": "display_data"
    }
   ],
   "source": [
    "\n",
    "#Used to calculate the confusion matrix\n",
    "y_true = []\n",
    "y_pred = []\n",
    "\n",
    "for X, y in test_dataloader:\n",
    "    y_true.extend(y.data.cpu().numpy())\n",
    "    X, y = X.to(device), y.to(device)\n",
    "    pred = model(X)\n",
    "    pred = pred.softmax(dim=1)\n",
    "    y_pred.extend(pred.data.cpu().numpy())\n",
    "    \n",
    "y_pred = np.array(y_pred)\n",
    "y_true = np.array(y_true)\n",
    "seuil = 0.95\n",
    "indices = y_pred.max(1) > seuil\n",
    "\n",
    "print(\"Accuracy avant: \", np.where(y_pred.argmax(1) == y_true, 1, 0).mean())\n",
    "y_pred = y_pred[indices].argmax(1)\n",
    "y_true = y_true[indices]\n",
    "print(\"Accuracy après: \", np.where(y_pred == y_true, 1, 0).mean())\n",
    "\n",
    "conf_matrix = confusion_matrix(y_true, y_pred)\n",
    "disp = ConfusionMatrixDisplay(confusion_matrix=conf_matrix, display_labels = np.unique(Y))\n",
    "disp.plot()\n",
    "\n",
    "print(\"pred restantes: \", sum(indices))\n",
    "print(\"pred supprimees: \", sum(False == indices))\n",
    "print(\"pourcentage restant: \", sum(indices)/len(indices))\n",
    "plt.xticks(rotation=45)\n",
    "\n",
    "plt.show()"
   ]
  },
  {
   "cell_type": "code",
   "execution_count": 45,
   "id": "74b40ac9",
   "metadata": {},
   "outputs": [],
   "source": [
    "torch.save(model.state_dict(), \"./models/bowModelGood\")"
   ]
  },
  {
   "cell_type": "code",
   "execution_count": 48,
   "id": "b12bfe1c",
   "metadata": {},
   "outputs": [],
   "source": [
    "datatest,labtest = extractdata(\"dataBow.csv\")\n",
    "datatest=datatest.astype(\"int64\")\n",
    "datatest=np.unique(datatest,axis=0,return_index=True)\n",
    "datatest,index = datatest\n",
    "labtest = labtest[index]"
   ]
  },
  {
   "cell_type": "code",
   "execution_count": 49,
   "id": "6b6e76a0",
   "metadata": {},
   "outputs": [],
   "source": [
    "le = preprocessing.LabelEncoder()\n",
    "newdatatest = normalize(datatest)\n",
    "\n",
    "tmp = datatest[:,datatest.shape[1]//2:]\n",
    "anotherdatatest = datatest[:,:datatest.shape[1]//2]-tmp\n",
    "anotherdatatest = normalize(anotherdatatest)\n",
    "le.fit(labtest)\n",
    "labtestnum = le.transform(labtest)"
   ]
  },
  {
   "cell_type": "code",
   "execution_count": 54,
   "id": "8adb5394",
   "metadata": {},
   "outputs": [
    {
     "name": "stdout",
     "output_type": "stream",
     "text": [
      "['copyPaste' 'deleteWord' 'replace']\n"
     ]
    }
   ],
   "source": [
    "print(le.classes_)"
   ]
  },
  {
   "cell_type": "code",
   "execution_count": 50,
   "id": "5289d595",
   "metadata": {},
   "outputs": [],
   "source": [
    "datatestset = torch.utils.data.TensorDataset(torch.Tensor(anotherdatatest),torch.Tensor(labtestnum).type(torch.LongTensor))"
   ]
  },
  {
   "cell_type": "code",
   "execution_count": 51,
   "id": "8b52208a",
   "metadata": {},
   "outputs": [],
   "source": [
    "validation_dataloader = torch.utils.data.DataLoader(\n",
    "    datatestset,\n",
    "    shuffle=False\n",
    ")"
   ]
  },
  {
   "cell_type": "code",
   "execution_count": 52,
   "id": "6533935a",
   "metadata": {},
   "outputs": [
    {
     "name": "stdout",
     "output_type": "stream",
     "text": [
      "Accuracy avant:  0.20833333333333334\n",
      "Accuracy après:  0.21739130434782608\n"
     ]
    },
    {
     "ename": "ValueError",
     "evalue": "The number of FixedLocator locations (4), usually from a call to set_ticks, does not match the number of labels (3).",
     "output_type": "error",
     "traceback": [
      "\u001b[1;31m---------------------------------------------------------------------------\u001b[0m",
      "\u001b[1;31mValueError\u001b[0m                                Traceback (most recent call last)",
      "Cell \u001b[1;32mIn[52], line 24\u001b[0m\n\u001b[0;32m     22\u001b[0m conf_matrix \u001b[38;5;241m=\u001b[39m confusion_matrix(y_true, y_pred)\n\u001b[0;32m     23\u001b[0m disp \u001b[38;5;241m=\u001b[39m ConfusionMatrixDisplay(confusion_matrix\u001b[38;5;241m=\u001b[39mconf_matrix, display_labels \u001b[38;5;241m=\u001b[39m le\u001b[38;5;241m.\u001b[39mclasses_)\n\u001b[1;32m---> 24\u001b[0m \u001b[43mdisp\u001b[49m\u001b[38;5;241;43m.\u001b[39;49m\u001b[43mplot\u001b[49m\u001b[43m(\u001b[49m\u001b[43m)\u001b[49m\n\u001b[0;32m     26\u001b[0m \u001b[38;5;28mprint\u001b[39m(\u001b[38;5;124m\"\u001b[39m\u001b[38;5;124mpred restantes: \u001b[39m\u001b[38;5;124m\"\u001b[39m, \u001b[38;5;28msum\u001b[39m(indices))\n\u001b[0;32m     27\u001b[0m \u001b[38;5;28mprint\u001b[39m(\u001b[38;5;124m\"\u001b[39m\u001b[38;5;124mpred supprimees: \u001b[39m\u001b[38;5;124m\"\u001b[39m, \u001b[38;5;28msum\u001b[39m(\u001b[38;5;28;01mFalse\u001b[39;00m \u001b[38;5;241m==\u001b[39m indices))\n",
      "File \u001b[1;32m~\\AppData\\Local\\anaconda3\\envs\\STAGE\\lib\\site-packages\\sklearn\\metrics\\_plot\\confusion_matrix.py:181\u001b[0m, in \u001b[0;36mConfusionMatrixDisplay.plot\u001b[1;34m(self, include_values, cmap, xticks_rotation, values_format, ax, colorbar, im_kw, text_kw)\u001b[0m\n\u001b[0;32m    179\u001b[0m \u001b[38;5;28;01mif\u001b[39;00m colorbar:\n\u001b[0;32m    180\u001b[0m     fig\u001b[38;5;241m.\u001b[39mcolorbar(\u001b[38;5;28mself\u001b[39m\u001b[38;5;241m.\u001b[39mim_, ax\u001b[38;5;241m=\u001b[39max)\n\u001b[1;32m--> 181\u001b[0m \u001b[43max\u001b[49m\u001b[38;5;241;43m.\u001b[39;49m\u001b[43mset\u001b[49m\u001b[43m(\u001b[49m\n\u001b[0;32m    182\u001b[0m \u001b[43m    \u001b[49m\u001b[43mxticks\u001b[49m\u001b[38;5;241;43m=\u001b[39;49m\u001b[43mnp\u001b[49m\u001b[38;5;241;43m.\u001b[39;49m\u001b[43marange\u001b[49m\u001b[43m(\u001b[49m\u001b[43mn_classes\u001b[49m\u001b[43m)\u001b[49m\u001b[43m,\u001b[49m\n\u001b[0;32m    183\u001b[0m \u001b[43m    \u001b[49m\u001b[43myticks\u001b[49m\u001b[38;5;241;43m=\u001b[39;49m\u001b[43mnp\u001b[49m\u001b[38;5;241;43m.\u001b[39;49m\u001b[43marange\u001b[49m\u001b[43m(\u001b[49m\u001b[43mn_classes\u001b[49m\u001b[43m)\u001b[49m\u001b[43m,\u001b[49m\n\u001b[0;32m    184\u001b[0m \u001b[43m    \u001b[49m\u001b[43mxticklabels\u001b[49m\u001b[38;5;241;43m=\u001b[39;49m\u001b[43mdisplay_labels\u001b[49m\u001b[43m,\u001b[49m\n\u001b[0;32m    185\u001b[0m \u001b[43m    \u001b[49m\u001b[43myticklabels\u001b[49m\u001b[38;5;241;43m=\u001b[39;49m\u001b[43mdisplay_labels\u001b[49m\u001b[43m,\u001b[49m\n\u001b[0;32m    186\u001b[0m \u001b[43m    \u001b[49m\u001b[43mylabel\u001b[49m\u001b[38;5;241;43m=\u001b[39;49m\u001b[38;5;124;43m\"\u001b[39;49m\u001b[38;5;124;43mTrue label\u001b[39;49m\u001b[38;5;124;43m\"\u001b[39;49m\u001b[43m,\u001b[49m\n\u001b[0;32m    187\u001b[0m \u001b[43m    \u001b[49m\u001b[43mxlabel\u001b[49m\u001b[38;5;241;43m=\u001b[39;49m\u001b[38;5;124;43m\"\u001b[39;49m\u001b[38;5;124;43mPredicted label\u001b[39;49m\u001b[38;5;124;43m\"\u001b[39;49m\u001b[43m,\u001b[49m\n\u001b[0;32m    188\u001b[0m \u001b[43m\u001b[49m\u001b[43m)\u001b[49m\n\u001b[0;32m    190\u001b[0m ax\u001b[38;5;241m.\u001b[39mset_ylim((n_classes \u001b[38;5;241m-\u001b[39m \u001b[38;5;241m0.5\u001b[39m, \u001b[38;5;241m-\u001b[39m\u001b[38;5;241m0.5\u001b[39m))\n\u001b[0;32m    191\u001b[0m plt\u001b[38;5;241m.\u001b[39msetp(ax\u001b[38;5;241m.\u001b[39mget_xticklabels(), rotation\u001b[38;5;241m=\u001b[39mxticks_rotation)\n",
      "File \u001b[1;32m~\\AppData\\Local\\anaconda3\\envs\\STAGE\\lib\\site-packages\\matplotlib\\artist.py:147\u001b[0m, in \u001b[0;36mArtist.__init_subclass__.<locals>.<lambda>\u001b[1;34m(self, **kwargs)\u001b[0m\n\u001b[0;32m    139\u001b[0m \u001b[38;5;28;01mif\u001b[39;00m \u001b[38;5;129;01mnot\u001b[39;00m \u001b[38;5;28mhasattr\u001b[39m(\u001b[38;5;28mcls\u001b[39m\u001b[38;5;241m.\u001b[39mset, \u001b[38;5;124m'\u001b[39m\u001b[38;5;124m_autogenerated_signature\u001b[39m\u001b[38;5;124m'\u001b[39m):\n\u001b[0;32m    140\u001b[0m     \u001b[38;5;66;03m# Don't overwrite cls.set if the subclass or one of its parents\u001b[39;00m\n\u001b[0;32m    141\u001b[0m     \u001b[38;5;66;03m# has defined a set method set itself.\u001b[39;00m\n\u001b[0;32m    142\u001b[0m     \u001b[38;5;66;03m# If there was no explicit definition, cls.set is inherited from\u001b[39;00m\n\u001b[0;32m    143\u001b[0m     \u001b[38;5;66;03m# the hierarchy of auto-generated set methods, which hold the\u001b[39;00m\n\u001b[0;32m    144\u001b[0m     \u001b[38;5;66;03m# flag _autogenerated_signature.\u001b[39;00m\n\u001b[0;32m    145\u001b[0m     \u001b[38;5;28;01mreturn\u001b[39;00m\n\u001b[1;32m--> 147\u001b[0m \u001b[38;5;28mcls\u001b[39m\u001b[38;5;241m.\u001b[39mset \u001b[38;5;241m=\u001b[39m \u001b[38;5;28;01mlambda\u001b[39;00m \u001b[38;5;28mself\u001b[39m, \u001b[38;5;241m*\u001b[39m\u001b[38;5;241m*\u001b[39mkwargs: Artist\u001b[38;5;241m.\u001b[39mset(\u001b[38;5;28mself\u001b[39m, \u001b[38;5;241m*\u001b[39m\u001b[38;5;241m*\u001b[39mkwargs)\n\u001b[0;32m    148\u001b[0m \u001b[38;5;28mcls\u001b[39m\u001b[38;5;241m.\u001b[39mset\u001b[38;5;241m.\u001b[39m\u001b[38;5;18m__name__\u001b[39m \u001b[38;5;241m=\u001b[39m \u001b[38;5;124m\"\u001b[39m\u001b[38;5;124mset\u001b[39m\u001b[38;5;124m\"\u001b[39m\n\u001b[0;32m    149\u001b[0m \u001b[38;5;28mcls\u001b[39m\u001b[38;5;241m.\u001b[39mset\u001b[38;5;241m.\u001b[39m\u001b[38;5;18m__qualname__\u001b[39m \u001b[38;5;241m=\u001b[39m \u001b[38;5;124mf\u001b[39m\u001b[38;5;124m\"\u001b[39m\u001b[38;5;132;01m{\u001b[39;00m\u001b[38;5;28mcls\u001b[39m\u001b[38;5;241m.\u001b[39m\u001b[38;5;18m__qualname__\u001b[39m\u001b[38;5;132;01m}\u001b[39;00m\u001b[38;5;124m.set\u001b[39m\u001b[38;5;124m\"\u001b[39m\n",
      "File \u001b[1;32m~\\AppData\\Local\\anaconda3\\envs\\STAGE\\lib\\site-packages\\matplotlib\\artist.py:1231\u001b[0m, in \u001b[0;36mArtist.set\u001b[1;34m(self, **kwargs)\u001b[0m\n\u001b[0;32m   1227\u001b[0m \u001b[38;5;28;01mdef\u001b[39;00m \u001b[38;5;21mset\u001b[39m(\u001b[38;5;28mself\u001b[39m, \u001b[38;5;241m*\u001b[39m\u001b[38;5;241m*\u001b[39mkwargs):\n\u001b[0;32m   1228\u001b[0m     \u001b[38;5;66;03m# docstring and signature are auto-generated via\u001b[39;00m\n\u001b[0;32m   1229\u001b[0m     \u001b[38;5;66;03m# Artist._update_set_signature_and_docstring() at the end of the\u001b[39;00m\n\u001b[0;32m   1230\u001b[0m     \u001b[38;5;66;03m# module.\u001b[39;00m\n\u001b[1;32m-> 1231\u001b[0m     \u001b[38;5;28;01mreturn\u001b[39;00m \u001b[38;5;28;43mself\u001b[39;49m\u001b[38;5;241;43m.\u001b[39;49m\u001b[43m_internal_update\u001b[49m\u001b[43m(\u001b[49m\u001b[43mcbook\u001b[49m\u001b[38;5;241;43m.\u001b[39;49m\u001b[43mnormalize_kwargs\u001b[49m\u001b[43m(\u001b[49m\u001b[43mkwargs\u001b[49m\u001b[43m,\u001b[49m\u001b[43m \u001b[49m\u001b[38;5;28;43mself\u001b[39;49m\u001b[43m)\u001b[49m\u001b[43m)\u001b[49m\n",
      "File \u001b[1;32m~\\AppData\\Local\\anaconda3\\envs\\STAGE\\lib\\site-packages\\matplotlib\\artist.py:1223\u001b[0m, in \u001b[0;36mArtist._internal_update\u001b[1;34m(self, kwargs)\u001b[0m\n\u001b[0;32m   1216\u001b[0m \u001b[38;5;28;01mdef\u001b[39;00m \u001b[38;5;21m_internal_update\u001b[39m(\u001b[38;5;28mself\u001b[39m, kwargs):\n\u001b[0;32m   1217\u001b[0m \u001b[38;5;250m    \u001b[39m\u001b[38;5;124;03m\"\"\"\u001b[39;00m\n\u001b[0;32m   1218\u001b[0m \u001b[38;5;124;03m    Update artist properties without prenormalizing them, but generating\u001b[39;00m\n\u001b[0;32m   1219\u001b[0m \u001b[38;5;124;03m    errors as if calling `set`.\u001b[39;00m\n\u001b[0;32m   1220\u001b[0m \n\u001b[0;32m   1221\u001b[0m \u001b[38;5;124;03m    The lack of prenormalization is to maintain backcompatibility.\u001b[39;00m\n\u001b[0;32m   1222\u001b[0m \u001b[38;5;124;03m    \"\"\"\u001b[39;00m\n\u001b[1;32m-> 1223\u001b[0m     \u001b[38;5;28;01mreturn\u001b[39;00m \u001b[38;5;28;43mself\u001b[39;49m\u001b[38;5;241;43m.\u001b[39;49m\u001b[43m_update_props\u001b[49m\u001b[43m(\u001b[49m\n\u001b[0;32m   1224\u001b[0m \u001b[43m        \u001b[49m\u001b[43mkwargs\u001b[49m\u001b[43m,\u001b[49m\u001b[43m \u001b[49m\u001b[38;5;124;43m\"\u001b[39;49m\u001b[38;5;132;43;01m{cls.__name__}\u001b[39;49;00m\u001b[38;5;124;43m.set() got an unexpected keyword argument \u001b[39;49m\u001b[38;5;124;43m\"\u001b[39;49m\n\u001b[0;32m   1225\u001b[0m \u001b[43m        \u001b[49m\u001b[38;5;124;43m\"\u001b[39;49m\u001b[38;5;132;43;01m{prop_name!r}\u001b[39;49;00m\u001b[38;5;124;43m\"\u001b[39;49m\u001b[43m)\u001b[49m\n",
      "File \u001b[1;32m~\\AppData\\Local\\anaconda3\\envs\\STAGE\\lib\\site-packages\\matplotlib\\artist.py:1199\u001b[0m, in \u001b[0;36mArtist._update_props\u001b[1;34m(self, props, errfmt)\u001b[0m\n\u001b[0;32m   1196\u001b[0m             \u001b[38;5;28;01mif\u001b[39;00m \u001b[38;5;129;01mnot\u001b[39;00m \u001b[38;5;28mcallable\u001b[39m(func):\n\u001b[0;32m   1197\u001b[0m                 \u001b[38;5;28;01mraise\u001b[39;00m \u001b[38;5;167;01mAttributeError\u001b[39;00m(\n\u001b[0;32m   1198\u001b[0m                     errfmt\u001b[38;5;241m.\u001b[39mformat(\u001b[38;5;28mcls\u001b[39m\u001b[38;5;241m=\u001b[39m\u001b[38;5;28mtype\u001b[39m(\u001b[38;5;28mself\u001b[39m), prop_name\u001b[38;5;241m=\u001b[39mk))\n\u001b[1;32m-> 1199\u001b[0m             ret\u001b[38;5;241m.\u001b[39mappend(\u001b[43mfunc\u001b[49m\u001b[43m(\u001b[49m\u001b[43mv\u001b[49m\u001b[43m)\u001b[49m)\n\u001b[0;32m   1200\u001b[0m \u001b[38;5;28;01mif\u001b[39;00m ret:\n\u001b[0;32m   1201\u001b[0m     \u001b[38;5;28mself\u001b[39m\u001b[38;5;241m.\u001b[39mpchanged()\n",
      "File \u001b[1;32m~\\AppData\\Local\\anaconda3\\envs\\STAGE\\lib\\site-packages\\matplotlib\\axes\\_base.py:74\u001b[0m, in \u001b[0;36m_axis_method_wrapper.__set_name__.<locals>.wrapper\u001b[1;34m(self, *args, **kwargs)\u001b[0m\n\u001b[0;32m     73\u001b[0m \u001b[38;5;28;01mdef\u001b[39;00m \u001b[38;5;21mwrapper\u001b[39m(\u001b[38;5;28mself\u001b[39m, \u001b[38;5;241m*\u001b[39margs, \u001b[38;5;241m*\u001b[39m\u001b[38;5;241m*\u001b[39mkwargs):\n\u001b[1;32m---> 74\u001b[0m     \u001b[38;5;28;01mreturn\u001b[39;00m get_method(\u001b[38;5;28mself\u001b[39m)(\u001b[38;5;241m*\u001b[39margs, \u001b[38;5;241m*\u001b[39m\u001b[38;5;241m*\u001b[39mkwargs)\n",
      "File \u001b[1;32m~\\AppData\\Local\\anaconda3\\envs\\STAGE\\lib\\site-packages\\matplotlib\\_api\\deprecation.py:297\u001b[0m, in \u001b[0;36mrename_parameter.<locals>.wrapper\u001b[1;34m(*args, **kwargs)\u001b[0m\n\u001b[0;32m    292\u001b[0m     warn_deprecated(\n\u001b[0;32m    293\u001b[0m         since, message\u001b[38;5;241m=\u001b[39m\u001b[38;5;124mf\u001b[39m\u001b[38;5;124m\"\u001b[39m\u001b[38;5;124mThe \u001b[39m\u001b[38;5;132;01m{\u001b[39;00mold\u001b[38;5;132;01m!r}\u001b[39;00m\u001b[38;5;124m parameter of \u001b[39m\u001b[38;5;132;01m{\u001b[39;00mfunc\u001b[38;5;241m.\u001b[39m\u001b[38;5;18m__name__\u001b[39m\u001b[38;5;132;01m}\u001b[39;00m\u001b[38;5;124m() \u001b[39m\u001b[38;5;124m\"\u001b[39m\n\u001b[0;32m    294\u001b[0m         \u001b[38;5;124mf\u001b[39m\u001b[38;5;124m\"\u001b[39m\u001b[38;5;124mhas been renamed \u001b[39m\u001b[38;5;132;01m{\u001b[39;00mnew\u001b[38;5;132;01m!r}\u001b[39;00m\u001b[38;5;124m since Matplotlib \u001b[39m\u001b[38;5;132;01m{\u001b[39;00msince\u001b[38;5;132;01m}\u001b[39;00m\u001b[38;5;124m; support \u001b[39m\u001b[38;5;124m\"\u001b[39m\n\u001b[0;32m    295\u001b[0m         \u001b[38;5;124mf\u001b[39m\u001b[38;5;124m\"\u001b[39m\u001b[38;5;124mfor the old name will be dropped %(removal)s.\u001b[39m\u001b[38;5;124m\"\u001b[39m)\n\u001b[0;32m    296\u001b[0m     kwargs[new] \u001b[38;5;241m=\u001b[39m kwargs\u001b[38;5;241m.\u001b[39mpop(old)\n\u001b[1;32m--> 297\u001b[0m \u001b[38;5;28;01mreturn\u001b[39;00m func(\u001b[38;5;241m*\u001b[39margs, \u001b[38;5;241m*\u001b[39m\u001b[38;5;241m*\u001b[39mkwargs)\n",
      "File \u001b[1;32m~\\AppData\\Local\\anaconda3\\envs\\STAGE\\lib\\site-packages\\matplotlib\\axis.py:1969\u001b[0m, in \u001b[0;36mAxis.set_ticklabels\u001b[1;34m(self, labels, minor, fontdict, **kwargs)\u001b[0m\n\u001b[0;32m   1965\u001b[0m \u001b[38;5;28;01mif\u001b[39;00m \u001b[38;5;28misinstance\u001b[39m(locator, mticker\u001b[38;5;241m.\u001b[39mFixedLocator):\n\u001b[0;32m   1966\u001b[0m     \u001b[38;5;66;03m# Passing [] as a list of labels is often used as a way to\u001b[39;00m\n\u001b[0;32m   1967\u001b[0m     \u001b[38;5;66;03m# remove all tick labels, so only error for > 0 labels\u001b[39;00m\n\u001b[0;32m   1968\u001b[0m     \u001b[38;5;28;01mif\u001b[39;00m \u001b[38;5;28mlen\u001b[39m(locator\u001b[38;5;241m.\u001b[39mlocs) \u001b[38;5;241m!=\u001b[39m \u001b[38;5;28mlen\u001b[39m(labels) \u001b[38;5;129;01mand\u001b[39;00m \u001b[38;5;28mlen\u001b[39m(labels) \u001b[38;5;241m!=\u001b[39m \u001b[38;5;241m0\u001b[39m:\n\u001b[1;32m-> 1969\u001b[0m         \u001b[38;5;28;01mraise\u001b[39;00m \u001b[38;5;167;01mValueError\u001b[39;00m(\n\u001b[0;32m   1970\u001b[0m             \u001b[38;5;124m\"\u001b[39m\u001b[38;5;124mThe number of FixedLocator locations\u001b[39m\u001b[38;5;124m\"\u001b[39m\n\u001b[0;32m   1971\u001b[0m             \u001b[38;5;124mf\u001b[39m\u001b[38;5;124m\"\u001b[39m\u001b[38;5;124m (\u001b[39m\u001b[38;5;132;01m{\u001b[39;00m\u001b[38;5;28mlen\u001b[39m(locator\u001b[38;5;241m.\u001b[39mlocs)\u001b[38;5;132;01m}\u001b[39;00m\u001b[38;5;124m), usually from a call to\u001b[39m\u001b[38;5;124m\"\u001b[39m\n\u001b[0;32m   1972\u001b[0m             \u001b[38;5;124m\"\u001b[39m\u001b[38;5;124m set_ticks, does not match\u001b[39m\u001b[38;5;124m\"\u001b[39m\n\u001b[0;32m   1973\u001b[0m             \u001b[38;5;124mf\u001b[39m\u001b[38;5;124m\"\u001b[39m\u001b[38;5;124m the number of labels (\u001b[39m\u001b[38;5;132;01m{\u001b[39;00m\u001b[38;5;28mlen\u001b[39m(labels)\u001b[38;5;132;01m}\u001b[39;00m\u001b[38;5;124m).\u001b[39m\u001b[38;5;124m\"\u001b[39m)\n\u001b[0;32m   1974\u001b[0m     tickd \u001b[38;5;241m=\u001b[39m {loc: lab \u001b[38;5;28;01mfor\u001b[39;00m loc, lab \u001b[38;5;129;01min\u001b[39;00m \u001b[38;5;28mzip\u001b[39m(locator\u001b[38;5;241m.\u001b[39mlocs, labels)}\n\u001b[0;32m   1975\u001b[0m     func \u001b[38;5;241m=\u001b[39m functools\u001b[38;5;241m.\u001b[39mpartial(\u001b[38;5;28mself\u001b[39m\u001b[38;5;241m.\u001b[39m_format_with_dict, tickd)\n",
      "\u001b[1;31mValueError\u001b[0m: The number of FixedLocator locations (4), usually from a call to set_ticks, does not match the number of labels (3)."
     ]
    },
    {
     "data": {
      "image/png": "[encoded data removed]",
      "text/plain": [
       "<Figure size 640x480 with 2 Axes>"
      ]
     },
     "metadata": {},
     "output_type": "display_data"
    }
   ],
   "source": [
    "\n",
    "#Used to calculate the confusion matrix\n",
    "y_true = []\n",
    "y_pred = []\n",
    "\n",
    "for X, y in validation_dataloader:\n",
    "    y_true.extend(y.data.cpu().numpy())\n",
    "    X, y = X.to(device), y.to(device)\n",
    "    pred = model(X)\n",
    "    pred = pred.softmax(dim=1)\n",
    "    y_pred.extend(pred.data.cpu().numpy())\n",
    "    \n",
    "y_pred = np.array(y_pred)\n",
    "y_true = np.array(y_true)\n",
    "seuil = 0.95\n",
    "indices = y_pred.max(1) > seuil\n",
    "\n",
    "print(\"Accuracy avant: \", np.where(y_pred.argmax(1) == y_true, 1, 0).mean())\n",
    "y_pred = y_pred[indices].argmax(1)\n",
    "y_true = y_true[indices]\n",
    "print(\"Accuracy après: \", np.where(y_pred == y_true, 1, 0).mean())\n",
    "\n",
    "conf_matrix = confusion_matrix(y_true, y_pred)\n",
    "disp = ConfusionMatrixDisplay(confusion_matrix=conf_matrix, display_labels = le.classes_)\n",
    "disp.plot()\n",
    "\n",
    "print(\"pred restantes: \", sum(indices))\n",
    "print(\"pred supprimees: \", sum(False == indices))\n",
    "print(\"pourcentage restant: \", sum(indices)/len(indices))\n",
    "plt.xticks(rotation=45)\n",
    "\n",
    "plt.show()"
   ]
  },
  {
   "cell_type": "code",
   "execution_count": null,
   "id": "5e430a3c",
   "metadata": {},
   "outputs": [],
   "source": []
  }
 ],
 "metadata": {
  "kernelspec": {
   "display_name": "Python 3 (ipykernel)",
   "language": "python",
   "name": "python3"
  },
  "language_info": {
   "codemirror_mode": {
    "name": "ipython",
    "version": 3
   },
   "file_extension": ".py",
   "mimetype": "text/x-python",
   "name": "python",
   "nbconvert_exporter": "python",
   "pygments_lexer": "ipython3",
   "version": "3.10.11"
  }
 },
 "nbformat": 4,
 "nbformat_minor": 5
}
