{
 "cells": [
  {
   "cell_type": "code",
   "execution_count": 1,
   "id": "a5cb17e2",
   "metadata": {},
   "outputs": [
    {
     "name": "stderr",
     "output_type": "stream",
     "text": [
      "c:\\Users\\zhuang\\AppData\\Local\\anaconda3\\lib\\site-packages\\torchvision\\io\\image.py:13: UserWarning: Failed to load image Python extension: '[WinError 127] La procédure spécifiée est introuvable'If you don't plan on using image functionality from `torchvision.io`, you can ignore this warning. Otherwise, there might be something wrong with your environment. Did you have `libjpeg` or `libpng` installed before building `torchvision` from source?\n",
      "  warn(\n"
     ]
    }
   ],
   "source": [
    "import torch\n",
    "from torch import nn, optim\n",
    "import torch.nn.functional as F\n",
    "from torch.utils.data import DataLoader\n",
    "from torchvision import datasets\n",
    "from torchvision.transforms import ToTensor, transforms\n",
    "import matplotlib.pyplot as plt\n",
    "from scipy.io.matlab import loadmat, savemat\n",
    "from sklearn.model_selection import train_test_split"
   ]
  },
  {
   "cell_type": "markdown",
   "id": "9bd02e1b",
   "metadata": {},
   "source": [
    "# Load dataset"
   ]
  },
  {
   "cell_type": "code",
   "execution_count": 36,
   "id": "63634567",
   "metadata": {},
   "outputs": [],
   "source": [
    "paired_dir = 'data/'\n",
    "batch_size = 100\n",
    "\n",
    "image_transform = transforms.Compose([\n",
    "    transforms.Resize((64, 64)),\n",
    "    transforms.ToTensor(),\n",
    "    transforms.Normalize(mean=[0.485, 0.456, 0.406], std=[0.229, 0.224, 0.225])\n",
    "])\n",
    "\n",
    "dataset = datasets.ImageFolder(root=paired_dir, transform=image_transform)\n",
    "train_dataloader = torch.utils.data.DataLoader(dataset, batch_size=batch_size, shuffle=True)"
   ]
  },
  {
   "cell_type": "code",
   "execution_count": 27,
   "id": "d692f460",
   "metadata": {},
   "outputs": [
    {
     "data": {
      "text/plain": [
       "['alignBottom', 'alignLeft', 'alignRight', 'alignTop']"
      ]
     },
     "execution_count": 27,
     "metadata": {},
     "output_type": "execute_result"
    }
   ],
   "source": [
    "classes = dataset.find_classes(paired_dir)[0]\n",
    "classes"
   ]
  },
  {
   "cell_type": "code",
   "execution_count": 28,
   "id": "6b7350a3",
   "metadata": {},
   "outputs": [
    {
     "name": "stderr",
     "output_type": "stream",
     "text": [
      "Clipping input data to the valid range for imshow with RGB data ([0..1] for floats or [0..255] for integers).\n"
     ]
    },
    {
     "data": {
      "text/plain": [
       "<matplotlib.image.AxesImage at 0x171212d24a0>"
      ]
     },
     "execution_count": 28,
     "metadata": {},
     "output_type": "execute_result"
    },
    {
     "data": {
      "image/png": "[encoded data removed]",
      "text/plain": [
       "<Figure size 640x480 with 1 Axes>"
      ]
     },
     "metadata": {},
     "output_type": "display_data"
    }
   ],
   "source": [
    "image = dataset[10][0]\n",
    "image = image.permute(1, 2, 0)\n",
    "plt.imshow(image.numpy())"
   ]
  },
  {
   "cell_type": "markdown",
   "id": "4df7aaae",
   "metadata": {},
   "source": [
    "# Model"
   ]
  },
  {
   "cell_type": "code",
   "execution_count": 29,
   "id": "dd884164",
   "metadata": {},
   "outputs": [
    {
     "name": "stdout",
     "output_type": "stream",
     "text": [
      "Using cpu device\n"
     ]
    }
   ],
   "source": [
    "device = (\n",
    "    \"cuda\"\n",
    "    if torch.cuda.is_available()\n",
    "    else \"mps\"\n",
    "    if torch.backends.mps.is_available()\n",
    "    else \"cpu\"\n",
    ")\n",
    "print(f\"Using {device} device\")"
   ]
  },
  {
   "cell_type": "code",
   "execution_count": 30,
   "id": "247d7eb1",
   "metadata": {},
   "outputs": [],
   "source": [
    "class LeNet(nn.Module):\n",
    "    def __init__(self):\n",
    "        super(LeNet, self).__init__()\n",
    "        self.conv1 = nn.Conv2d(3, 6, kernel_size=5, stride=1, padding=2)\n",
    "        self.conv2 = nn.Conv2d(6, 16, kernel_size=5, stride=1, padding=0)\n",
    "        self.fc1 = nn.Linear(3136, 1024)\n",
    "        self.fc2 = nn.Linear(1024, 256)\n",
    "        self.fc3 = nn.Linear(256, 4)\n",
    "\n",
    "    def forward(self, x):\n",
    "        x = F.relu(self.conv1(x))\n",
    "        x = F.max_pool2d(x, 2)\n",
    "        x = F.relu(self.conv2(x))\n",
    "        x = F.max_pool2d(x, 2)\n",
    "        x = x.view(x.size(0), -1)\n",
    "        x = F.relu(self.fc1(x))\n",
    "        x = F.relu(self.fc2(x))\n",
    "        x = self.fc3(x)\n",
    "        return x\n"
   ]
  },
  {
   "cell_type": "code",
   "execution_count": 31,
   "id": "f7370df3",
   "metadata": {},
   "outputs": [
    {
     "name": "stdout",
     "output_type": "stream",
     "text": [
      "LeNet(\n",
      "  (conv1): Conv2d(3, 6, kernel_size=(5, 5), stride=(1, 1), padding=(2, 2))\n",
      "  (conv2): Conv2d(6, 16, kernel_size=(5, 5), stride=(1, 1))\n",
      "  (fc1): Linear(in_features=3136, out_features=1024, bias=True)\n",
      "  (fc2): Linear(in_features=1024, out_features=256, bias=True)\n",
      "  (fc3): Linear(in_features=256, out_features=4, bias=True)\n",
      ")\n"
     ]
    }
   ],
   "source": [
    "model = LeNet().to(device)\n",
    "print(model)"
   ]
  },
  {
   "cell_type": "code",
   "execution_count": 32,
   "id": "fdfbe7bc",
   "metadata": {},
   "outputs": [],
   "source": [
    "loss_fn = nn.CrossEntropyLoss()\n",
    "optimizer = torch.optim.SGD(model.parameters(), lr=1e-3)"
   ]
  },
  {
   "cell_type": "code",
   "execution_count": 33,
   "id": "e0b2004b",
   "metadata": {},
   "outputs": [],
   "source": [
    "def train(dataloader, model, loss_fn, optimizer):\n",
    "    size = len(dataloader.dataset)\n",
    "    model.train()\n",
    "    for batch, (X, y) in enumerate(dataloader):\n",
    "        X, y = X.to(device), y.to(device)\n",
    "\n",
    "        # Compute prediction error\n",
    "        pred = model(X)\n",
    "        loss = loss_fn(pred, y)\n",
    "\n",
    "        # Backpropagation\n",
    "        loss.backward()\n",
    "        optimizer.step()\n",
    "        optimizer.zero_grad()\n",
    "\n",
    "        if batch % 100 == 0:\n",
    "            loss, current = loss.item(), (batch + 1) * len(X)\n",
    "            print(f\"loss: {loss:>7f}  [{current:>5d}/{size:>5d}]\")"
   ]
  },
  {
   "cell_type": "code",
   "execution_count": 34,
   "id": "dbcb5f4f",
   "metadata": {},
   "outputs": [],
   "source": [
    "def test(dataloader, model, loss_fn):\n",
    "    size = len(dataloader.dataset)\n",
    "    num_batches = len(dataloader)\n",
    "    model.eval()\n",
    "    test_loss, correct = 0, 0\n",
    "    with torch.no_grad():\n",
    "        for X, y in dataloader:\n",
    "            X, y = X.to(device), y.to(device)\n",
    "            pred = model(X)\n",
    "            test_loss += loss_fn(pred, y).item()\n",
    "            correct += (pred.argmax(1) == y).type(torch.float).sum().item()\n",
    "    test_loss /= num_batches\n",
    "    correct /= size\n",
    "    print(f\"Test Error: \\n Accuracy: {(100*correct):>0.1f}%, Avg loss: {test_loss:>8f} \\n\")"
   ]
  },
  {
   "cell_type": "markdown",
   "id": "d11cc964",
   "metadata": {},
   "source": [
    "# Learning phase"
   ]
  },
  {
   "cell_type": "code",
   "execution_count": 41,
   "id": "c85110ac",
   "metadata": {
    "scrolled": true
   },
   "outputs": [
    {
     "name": "stdout",
     "output_type": "stream",
     "text": [
      "CrossValidation : 0\n",
      "-------------------------------\n",
      "\n",
      "Epoch 1\n",
      "-------------------------------\n",
      "loss: 1.381596  [  200/ 4000]\n",
      "Test Error: \n",
      " Accuracy: 59.1%, Avg loss: 0.980365 \n",
      "\n",
      "Epoch 2\n",
      "-------------------------------\n",
      "loss: 0.895271  [  200/ 4000]\n",
      "Test Error: \n",
      " Accuracy: 77.3%, Avg loss: 0.616392 \n",
      "\n",
      "Epoch 3\n",
      "-------------------------------\n",
      "loss: 0.600355  [  200/ 4000]\n",
      "Test Error: \n",
      " Accuracy: 83.8%, Avg loss: 0.494176 \n",
      "\n",
      "Epoch 4\n",
      "-------------------------------\n",
      "loss: 0.542916  [  200/ 4000]\n",
      "Test Error: \n",
      " Accuracy: 81.5%, Avg loss: 0.488858 \n",
      "\n",
      "Epoch 5\n",
      "-------------------------------\n",
      "loss: 0.439538  [  200/ 4000]\n",
      "Test Error: \n",
      " Accuracy: 83.9%, Avg loss: 0.411773 \n",
      "\n",
      "Epoch 6\n",
      "-------------------------------\n",
      "loss: 0.433640  [  200/ 4000]\n",
      "Test Error: \n",
      " Accuracy: 88.2%, Avg loss: 0.346324 \n",
      "\n",
      "Epoch 7\n",
      "-------------------------------\n",
      "loss: 0.327025  [  200/ 4000]\n",
      "Test Error: \n",
      " Accuracy: 88.4%, Avg loss: 0.331206 \n",
      "\n",
      "Epoch 8\n",
      "-------------------------------\n",
      "loss: 0.287641  [  200/ 4000]\n",
      "Test Error: \n",
      " Accuracy: 87.4%, Avg loss: 0.345066 \n",
      "\n",
      "Epoch 9\n",
      "-------------------------------\n",
      "loss: 0.257661  [  200/ 4000]\n",
      "Test Error: \n",
      " Accuracy: 83.3%, Avg loss: 0.455210 \n",
      "\n",
      "Epoch 10\n",
      "-------------------------------\n",
      "loss: 0.275573  [  200/ 4000]\n",
      "Test Error: \n",
      " Accuracy: 85.2%, Avg loss: 0.410063 \n",
      "\n",
      "Epoch 11\n",
      "-------------------------------\n",
      "loss: 0.272647  [  200/ 4000]\n",
      "Test Error: \n",
      " Accuracy: 85.2%, Avg loss: 0.429274 \n",
      "\n",
      "Epoch 12\n",
      "-------------------------------\n",
      "loss: 0.423554  [  200/ 4000]\n",
      "Test Error: \n",
      " Accuracy: 85.1%, Avg loss: 0.388637 \n",
      "\n",
      "Epoch 13\n",
      "-------------------------------\n",
      "loss: 0.316330  [  200/ 4000]\n",
      "Test Error: \n",
      " Accuracy: 88.3%, Avg loss: 0.301700 \n",
      "\n",
      "Epoch 14\n",
      "-------------------------------\n",
      "loss: 0.215414  [  200/ 4000]\n",
      "Test Error: \n",
      " Accuracy: 90.1%, Avg loss: 0.267761 \n",
      "\n",
      "Epoch 15\n",
      "-------------------------------\n",
      "loss: 0.208532  [  200/ 4000]\n",
      "Test Error: \n",
      " Accuracy: 88.7%, Avg loss: 0.297986 \n",
      "\n",
      "Epoch 16\n",
      "-------------------------------\n",
      "loss: 0.263361  [  200/ 4000]\n",
      "Test Error: \n",
      " Accuracy: 89.1%, Avg loss: 0.277302 \n",
      "\n",
      "Epoch 17\n",
      "-------------------------------\n",
      "loss: 0.182273  [  200/ 4000]\n",
      "Test Error: \n",
      " Accuracy: 89.0%, Avg loss: 0.279998 \n",
      "\n",
      "Epoch 18\n",
      "-------------------------------\n",
      "loss: 0.151292  [  200/ 4000]\n",
      "Test Error: \n",
      " Accuracy: 88.0%, Avg loss: 0.301046 \n",
      "\n",
      "Epoch 19\n",
      "-------------------------------\n",
      "loss: 0.219576  [  200/ 4000]\n",
      "Test Error: \n",
      " Accuracy: 89.7%, Avg loss: 0.264291 \n",
      "\n",
      "Epoch 20\n",
      "-------------------------------\n",
      "loss: 0.114952  [  200/ 4000]\n",
      "Test Error: \n",
      " Accuracy: 89.5%, Avg loss: 0.269866 \n",
      "\n",
      "Done!\n",
      "CrossValidation : 1\n",
      "-------------------------------\n",
      "\n",
      "Epoch 1\n",
      "-------------------------------\n",
      "loss: 1.393721  [  200/ 4000]\n",
      "Test Error: \n",
      " Accuracy: 54.0%, Avg loss: 1.162708 \n",
      "\n",
      "Epoch 2\n",
      "-------------------------------\n",
      "loss: 1.185764  [  200/ 4000]\n",
      "Test Error: \n",
      " Accuracy: 73.4%, Avg loss: 0.741189 \n",
      "\n",
      "Epoch 3\n",
      "-------------------------------\n",
      "loss: 0.727561  [  200/ 4000]\n",
      "Test Error: \n",
      " Accuracy: 83.0%, Avg loss: 0.513144 \n",
      "\n",
      "Epoch 4\n",
      "-------------------------------\n",
      "loss: 0.520057  [  200/ 4000]\n",
      "Test Error: \n",
      " Accuracy: 84.2%, Avg loss: 0.484965 \n",
      "\n",
      "Epoch 5\n",
      "-------------------------------\n",
      "loss: 0.534676  [  200/ 4000]\n",
      "Test Error: \n",
      " Accuracy: 84.0%, Avg loss: 0.451573 \n",
      "\n",
      "Epoch 6\n",
      "-------------------------------\n",
      "loss: 0.428781  [  200/ 4000]\n",
      "Test Error: \n",
      " Accuracy: 86.9%, Avg loss: 0.376049 \n",
      "\n",
      "Epoch 7\n",
      "-------------------------------\n",
      "loss: 0.344412  [  200/ 4000]\n",
      "Test Error: \n",
      " Accuracy: 87.2%, Avg loss: 0.362299 \n",
      "\n",
      "Epoch 8\n",
      "-------------------------------\n",
      "loss: 0.286834  [  200/ 4000]\n",
      "Test Error: \n",
      " Accuracy: 87.4%, Avg loss: 0.379376 \n",
      "\n",
      "Epoch 9\n",
      "-------------------------------\n",
      "loss: 0.340354  [  200/ 4000]\n",
      "Test Error: \n",
      " Accuracy: 85.3%, Avg loss: 0.379182 \n",
      "\n",
      "Epoch 10\n",
      "-------------------------------\n",
      "loss: 0.296856  [  200/ 4000]\n",
      "Test Error: \n",
      " Accuracy: 87.2%, Avg loss: 0.372349 \n",
      "\n",
      "Epoch 11\n",
      "-------------------------------\n",
      "loss: 0.390743  [  200/ 4000]\n",
      "Test Error: \n",
      " Accuracy: 88.4%, Avg loss: 0.338997 \n",
      "\n",
      "Epoch 12\n",
      "-------------------------------\n",
      "loss: 0.278173  [  200/ 4000]\n",
      "Test Error: \n",
      " Accuracy: 85.0%, Avg loss: 0.407566 \n",
      "\n",
      "Epoch 13\n",
      "-------------------------------\n",
      "loss: 0.415869  [  200/ 4000]\n",
      "Test Error: \n",
      " Accuracy: 88.5%, Avg loss: 0.322082 \n",
      "\n",
      "Epoch 14\n",
      "-------------------------------\n",
      "loss: 0.198828  [  200/ 4000]\n",
      "Test Error: \n",
      " Accuracy: 87.8%, Avg loss: 0.345226 \n",
      "\n",
      "Epoch 15\n",
      "-------------------------------\n",
      "loss: 0.253697  [  200/ 4000]\n",
      "Test Error: \n",
      " Accuracy: 88.5%, Avg loss: 0.301803 \n",
      "\n",
      "Epoch 16\n",
      "-------------------------------\n",
      "loss: 0.245950  [  200/ 4000]\n",
      "Test Error: \n",
      " Accuracy: 86.7%, Avg loss: 0.365670 \n",
      "\n",
      "Epoch 17\n",
      "-------------------------------\n",
      "loss: 0.255821  [  200/ 4000]\n",
      "Test Error: \n",
      " Accuracy: 88.0%, Avg loss: 0.325535 \n",
      "\n",
      "Epoch 18\n",
      "-------------------------------\n",
      "loss: 0.166515  [  200/ 4000]\n",
      "Test Error: \n",
      " Accuracy: 89.9%, Avg loss: 0.282720 \n",
      "\n",
      "Epoch 19\n",
      "-------------------------------\n",
      "loss: 0.217183  [  200/ 4000]\n",
      "Test Error: \n",
      " Accuracy: 87.8%, Avg loss: 0.320511 \n",
      "\n",
      "Epoch 20\n",
      "-------------------------------\n",
      "loss: 0.232659  [  200/ 4000]\n",
      "Test Error: \n",
      " Accuracy: 87.2%, Avg loss: 0.361971 \n",
      "\n",
      "Done!\n",
      "CrossValidation : 2\n",
      "-------------------------------\n",
      "\n",
      "Epoch 1\n",
      "-------------------------------\n",
      "loss: 1.382781  [  200/ 4000]\n",
      "Test Error: \n",
      " Accuracy: 61.5%, Avg loss: 0.982657 \n",
      "\n",
      "Epoch 2\n",
      "-------------------------------\n",
      "loss: 1.090505  [  200/ 4000]\n",
      "Test Error: \n",
      " Accuracy: 71.7%, Avg loss: 0.660526 \n",
      "\n",
      "Epoch 3\n",
      "-------------------------------\n",
      "loss: 0.735653  [  200/ 4000]\n",
      "Test Error: \n",
      " Accuracy: 80.8%, Avg loss: 0.509096 \n",
      "\n",
      "Epoch 4\n",
      "-------------------------------\n",
      "loss: 0.436577  [  200/ 4000]\n",
      "Test Error: \n",
      " Accuracy: 85.1%, Avg loss: 0.440782 \n",
      "\n",
      "Epoch 5\n",
      "-------------------------------\n",
      "loss: 0.390161  [  200/ 4000]\n",
      "Test Error: \n",
      " Accuracy: 82.3%, Avg loss: 0.482055 \n",
      "\n",
      "Epoch 6\n",
      "-------------------------------\n",
      "loss: 0.451955  [  200/ 4000]\n",
      "Test Error: \n",
      " Accuracy: 83.6%, Avg loss: 0.455845 \n",
      "\n",
      "Epoch 7\n",
      "-------------------------------\n",
      "loss: 0.457813  [  200/ 4000]\n",
      "Test Error: \n",
      " Accuracy: 83.1%, Avg loss: 0.467870 \n",
      "\n",
      "Epoch 8\n",
      "-------------------------------\n",
      "loss: 0.370992  [  200/ 4000]\n",
      "Test Error: \n",
      " Accuracy: 86.6%, Avg loss: 0.386162 \n",
      "\n",
      "Epoch 9\n",
      "-------------------------------\n",
      "loss: 0.400831  [  200/ 4000]\n",
      "Test Error: \n",
      " Accuracy: 83.7%, Avg loss: 0.441278 \n",
      "\n",
      "Epoch 10\n",
      "-------------------------------\n",
      "loss: 0.274125  [  200/ 4000]\n",
      "Test Error: \n",
      " Accuracy: 87.8%, Avg loss: 0.343812 \n",
      "\n",
      "Epoch 11\n",
      "-------------------------------\n",
      "loss: 0.294043  [  200/ 4000]\n",
      "Test Error: \n",
      " Accuracy: 88.6%, Avg loss: 0.322071 \n",
      "\n",
      "Epoch 12\n",
      "-------------------------------\n",
      "loss: 0.247047  [  200/ 4000]\n",
      "Test Error: \n",
      " Accuracy: 85.9%, Avg loss: 0.379489 \n",
      "\n",
      "Epoch 13\n",
      "-------------------------------\n",
      "loss: 0.226331  [  200/ 4000]\n",
      "Test Error: \n",
      " Accuracy: 86.2%, Avg loss: 0.388345 \n",
      "\n",
      "Epoch 14\n",
      "-------------------------------\n",
      "loss: 0.288979  [  200/ 4000]\n",
      "Test Error: \n",
      " Accuracy: 88.3%, Avg loss: 0.332180 \n",
      "\n",
      "Epoch 15\n",
      "-------------------------------\n",
      "loss: 0.182136  [  200/ 4000]\n",
      "Test Error: \n",
      " Accuracy: 85.4%, Avg loss: 0.394994 \n",
      "\n",
      "Epoch 16\n",
      "-------------------------------\n",
      "loss: 0.227265  [  200/ 4000]\n",
      "Test Error: \n",
      " Accuracy: 86.9%, Avg loss: 0.354191 \n",
      "\n",
      "Epoch 17\n",
      "-------------------------------\n",
      "loss: 0.140498  [  200/ 4000]\n",
      "Test Error: \n",
      " Accuracy: 87.5%, Avg loss: 0.349961 \n",
      "\n",
      "Epoch 18\n",
      "-------------------------------\n",
      "loss: 0.196088  [  200/ 4000]\n",
      "Test Error: \n",
      " Accuracy: 88.8%, Avg loss: 0.319288 \n",
      "\n",
      "Epoch 19\n",
      "-------------------------------\n",
      "loss: 0.110163  [  200/ 4000]\n",
      "Test Error: \n",
      " Accuracy: 88.5%, Avg loss: 0.349772 \n",
      "\n",
      "Epoch 20\n",
      "-------------------------------\n",
      "loss: 0.099241  [  200/ 4000]\n",
      "Test Error: \n",
      " Accuracy: 88.4%, Avg loss: 0.337838 \n",
      "\n",
      "Done!\n",
      "CrossValidation : 3\n",
      "-------------------------------\n",
      "\n",
      "Epoch 1\n",
      "-------------------------------\n",
      "loss: 1.388294  [  200/ 4000]\n",
      "Test Error: \n",
      " Accuracy: 60.4%, Avg loss: 0.960860 \n",
      "\n",
      "Epoch 2\n",
      "-------------------------------\n",
      "loss: 0.951016  [  200/ 4000]\n",
      "Test Error: \n",
      " Accuracy: 82.4%, Avg loss: 0.522832 \n",
      "\n",
      "Epoch 3\n",
      "-------------------------------\n",
      "loss: 0.387472  [  200/ 4000]\n",
      "Test Error: \n",
      " Accuracy: 84.2%, Avg loss: 0.454642 \n",
      "\n",
      "Epoch 4\n",
      "-------------------------------\n",
      "loss: 0.508991  [  200/ 4000]\n",
      "Test Error: \n",
      " Accuracy: 85.2%, Avg loss: 0.414680 \n",
      "\n",
      "Epoch 5\n",
      "-------------------------------\n",
      "loss: 0.353595  [  200/ 4000]\n",
      "Test Error: \n",
      " Accuracy: 83.5%, Avg loss: 0.473356 \n",
      "\n",
      "Epoch 6\n",
      "-------------------------------\n",
      "loss: 0.459862  [  200/ 4000]\n",
      "Test Error: \n",
      " Accuracy: 84.0%, Avg loss: 0.433681 \n",
      "\n",
      "Epoch 7\n",
      "-------------------------------\n",
      "loss: 0.446061  [  200/ 4000]\n",
      "Test Error: \n",
      " Accuracy: 86.9%, Avg loss: 0.361252 \n",
      "\n",
      "Epoch 8\n",
      "-------------------------------\n",
      "loss: 0.250463  [  200/ 4000]\n",
      "Test Error: \n",
      " Accuracy: 86.6%, Avg loss: 0.365897 \n",
      "\n",
      "Epoch 9\n",
      "-------------------------------\n",
      "loss: 0.320014  [  200/ 4000]\n",
      "Test Error: \n",
      " Accuracy: 87.4%, Avg loss: 0.339434 \n",
      "\n",
      "Epoch 10\n",
      "-------------------------------\n",
      "loss: 0.216894  [  200/ 4000]\n",
      "Test Error: \n",
      " Accuracy: 87.3%, Avg loss: 0.346731 \n",
      "\n",
      "Epoch 11\n",
      "-------------------------------\n",
      "loss: 0.207370  [  200/ 4000]\n",
      "Test Error: \n",
      " Accuracy: 89.1%, Avg loss: 0.303115 \n",
      "\n",
      "Epoch 12\n",
      "-------------------------------\n",
      "loss: 0.261802  [  200/ 4000]\n",
      "Test Error: \n",
      " Accuracy: 87.4%, Avg loss: 0.339049 \n",
      "\n",
      "Epoch 13\n",
      "-------------------------------\n",
      "loss: 0.178391  [  200/ 4000]\n",
      "Test Error: \n",
      " Accuracy: 86.6%, Avg loss: 0.378680 \n",
      "\n",
      "Epoch 14\n",
      "-------------------------------\n",
      "loss: 0.183828  [  200/ 4000]\n",
      "Test Error: \n",
      " Accuracy: 88.7%, Avg loss: 0.320758 \n",
      "\n",
      "Epoch 15\n",
      "-------------------------------\n",
      "loss: 0.207415  [  200/ 4000]\n",
      "Test Error: \n",
      " Accuracy: 88.8%, Avg loss: 0.317866 \n",
      "\n",
      "Epoch 16\n",
      "-------------------------------\n",
      "loss: 0.261880  [  200/ 4000]\n",
      "Test Error: \n",
      " Accuracy: 87.3%, Avg loss: 0.333900 \n",
      "\n",
      "Epoch 17\n",
      "-------------------------------\n",
      "loss: 0.182981  [  200/ 4000]\n",
      "Test Error: \n",
      " Accuracy: 89.0%, Avg loss: 0.308767 \n",
      "\n",
      "Epoch 18\n",
      "-------------------------------\n",
      "loss: 0.183309  [  200/ 4000]\n",
      "Test Error: \n",
      " Accuracy: 88.0%, Avg loss: 0.341531 \n",
      "\n",
      "Epoch 19\n",
      "-------------------------------\n",
      "loss: 0.196294  [  200/ 4000]\n",
      "Test Error: \n",
      " Accuracy: 90.3%, Avg loss: 0.295935 \n",
      "\n",
      "Epoch 20\n",
      "-------------------------------\n",
      "loss: 0.169342  [  200/ 4000]\n",
      "Test Error: \n",
      " Accuracy: 88.6%, Avg loss: 0.325572 \n",
      "\n",
      "Done!\n",
      "CrossValidation : 4\n",
      "-------------------------------\n",
      "\n",
      "Epoch 1\n",
      "-------------------------------\n",
      "loss: 1.384852  [  200/ 4000]\n",
      "Test Error: \n",
      " Accuracy: 50.2%, Avg loss: 1.262282 \n",
      "\n",
      "Epoch 2\n",
      "-------------------------------\n",
      "loss: 1.267625  [  200/ 4000]\n",
      "Test Error: \n",
      " Accuracy: 72.6%, Avg loss: 0.780186 \n",
      "\n",
      "Epoch 3\n",
      "-------------------------------\n",
      "loss: 0.786607  [  200/ 4000]\n",
      "Test Error: \n",
      " Accuracy: 80.0%, Avg loss: 0.543821 \n",
      "\n",
      "Epoch 4\n",
      "-------------------------------\n",
      "loss: 0.582129  [  200/ 4000]\n",
      "Test Error: \n",
      " Accuracy: 83.7%, Avg loss: 0.489656 \n",
      "\n",
      "Epoch 5\n",
      "-------------------------------\n",
      "loss: 0.465809  [  200/ 4000]\n",
      "Test Error: \n",
      " Accuracy: 81.9%, Avg loss: 0.475694 \n",
      "\n",
      "Epoch 6\n",
      "-------------------------------\n",
      "loss: 0.385518  [  200/ 4000]\n",
      "Test Error: \n",
      " Accuracy: 85.1%, Avg loss: 0.434277 \n",
      "\n",
      "Epoch 7\n",
      "-------------------------------\n",
      "loss: 0.423006  [  200/ 4000]\n",
      "Test Error: \n",
      " Accuracy: 85.3%, Avg loss: 0.403627 \n",
      "\n",
      "Epoch 8\n",
      "-------------------------------\n",
      "loss: 0.436444  [  200/ 4000]\n",
      "Test Error: \n",
      " Accuracy: 88.1%, Avg loss: 0.339721 \n",
      "\n",
      "Epoch 9\n",
      "-------------------------------\n",
      "loss: 0.322216  [  200/ 4000]\n",
      "Test Error: \n",
      " Accuracy: 86.4%, Avg loss: 0.372483 \n",
      "\n",
      "Epoch 10\n",
      "-------------------------------\n",
      "loss: 0.320357  [  200/ 4000]\n",
      "Test Error: \n",
      " Accuracy: 88.9%, Avg loss: 0.341994 \n",
      "\n",
      "Epoch 11\n",
      "-------------------------------\n",
      "loss: 0.295489  [  200/ 4000]\n",
      "Test Error: \n",
      " Accuracy: 88.2%, Avg loss: 0.311034 \n",
      "\n",
      "Epoch 12\n",
      "-------------------------------\n",
      "loss: 0.251345  [  200/ 4000]\n",
      "Test Error: \n",
      " Accuracy: 88.7%, Avg loss: 0.316518 \n",
      "\n",
      "Epoch 13\n",
      "-------------------------------\n",
      "loss: 0.341025  [  200/ 4000]\n",
      "Test Error: \n",
      " Accuracy: 89.0%, Avg loss: 0.330761 \n",
      "\n",
      "Epoch 14\n",
      "-------------------------------\n",
      "loss: 0.396944  [  200/ 4000]\n",
      "Test Error: \n",
      " Accuracy: 89.0%, Avg loss: 0.326762 \n",
      "\n",
      "Epoch 15\n",
      "-------------------------------\n",
      "loss: 0.181617  [  200/ 4000]\n",
      "Test Error: \n",
      " Accuracy: 91.6%, Avg loss: 0.248733 \n",
      "\n",
      "Epoch 16\n",
      "-------------------------------\n",
      "loss: 0.150870  [  200/ 4000]\n",
      "Test Error: \n",
      " Accuracy: 91.4%, Avg loss: 0.263379 \n",
      "\n",
      "Epoch 17\n",
      "-------------------------------\n",
      "loss: 0.159196  [  200/ 4000]\n",
      "Test Error: \n",
      " Accuracy: 91.5%, Avg loss: 0.252335 \n",
      "\n",
      "Epoch 18\n",
      "-------------------------------\n",
      "loss: 0.173931  [  200/ 4000]\n",
      "Test Error: \n",
      " Accuracy: 91.9%, Avg loss: 0.223691 \n",
      "\n",
      "Epoch 19\n",
      "-------------------------------\n",
      "loss: 0.153084  [  200/ 4000]\n",
      "Test Error: \n",
      " Accuracy: 90.0%, Avg loss: 0.257731 \n",
      "\n",
      "Epoch 20\n",
      "-------------------------------\n",
      "loss: 0.146703  [  200/ 4000]\n",
      "Test Error: \n",
      " Accuracy: 90.0%, Avg loss: 0.281149 \n",
      "\n",
      "Done!\n"
     ]
    }
   ],
   "source": [
    "epochs = 20\n",
    "\n",
    "for i in range(5):\n",
    "    model = LeNet().to(device)\n",
    "    loss_fn = nn.CrossEntropyLoss()\n",
    "    optimizer = torch.optim.Adam(model.parameters(), lr=1e-3)\n",
    "    print(\"CrossValidation : \"+str(i)+\"\\n-------------------------------\\n\")\n",
    "    train_data, test_data = train_test_split(dataset, test_size=0.2, random_state=42)\n",
    "\n",
    "\n",
    "    # Create the data loaders for training and validation\n",
    "    train_dataloader = torch.utils.data.DataLoader(\n",
    "        train_data,\n",
    "        batch_size=200,\n",
    "        shuffle=True\n",
    "    )\n",
    "\n",
    "    test_dataloader = torch.utils.data.DataLoader(\n",
    "        test_data,\n",
    "        batch_size=200,\n",
    "        shuffle=False\n",
    "    )\n",
    "    \n",
    "    for t in range(epochs):\n",
    "        print(f\"Epoch {t+1}\\n-------------------------------\")\n",
    "        train(train_dataloader, model, loss_fn, optimizer)\n",
    "        #test(test_dataloader, model, loss_fn)\n",
    "        test(test_dataloader, model, loss_fn)\n",
    "    \n",
    "    # save model\n",
    "    torch.save(model.state_dict(), f\"./models/model{i}\")\n",
    "\n",
    "    print(\"Done!\")"
   ]
  },
  {
   "cell_type": "markdown",
   "id": "9e9fe2cd",
   "metadata": {},
   "source": [
    "# Evaluation"
   ]
  },
  {
   "cell_type": "code",
   "execution_count": 44,
   "id": "4c4799b3",
   "metadata": {
    "scrolled": true
   },
   "outputs": [
    {
     "data": {
      "image/png": "[encoded data removed]",
      "text/plain": [
       "<Figure size 640x480 with 2 Axes>"
      ]
     },
     "metadata": {},
     "output_type": "display_data"
    }
   ],
   "source": [
    "from sklearn.metrics import confusion_matrix, ConfusionMatrixDisplay\n",
    "import matplotlib.pyplot as plt\n",
    "\n",
    "\n",
    "#Used to calculate the confusion matrix\n",
    "y_true = []\n",
    "y_pred = []\n",
    "\n",
    "for X, y in train_dataloader:\n",
    "    y_true.extend(y.data.cpu().numpy())\n",
    "    X, y = X.to(device), y.to(device)\n",
    "    pred = model(X)\n",
    "    y_pred.extend(pred.argmax(1).data.cpu().numpy())\n",
    "\n",
    "conf_matrix = confusion_matrix(y_true, y_pred)\n",
    "disp = ConfusionMatrixDisplay(confusion_matrix=conf_matrix, display_labels = classes)\n",
    "disp.plot()\n",
    "plt.show()"
   ]
  },
  {
   "cell_type": "code",
   "execution_count": 96,
   "id": "3e957c6e",
   "metadata": {},
   "outputs": [
    {
     "name": "stdout",
     "output_type": "stream",
     "text": [
      "Accuracy avant:  0.81375\n",
      "Accuracy avant:  0.9961089494163424\n",
      "pred restantes:  257\n",
      "pred supprimees:  543\n",
      "pourcentage restant:  0.32125\n"
     ]
    },
    {
     "data": {
      "image/png": "[encoded data removed]",
      "text/plain": [
       "<Figure size 640x480 with 2 Axes>"
      ]
     },
     "metadata": {},
     "output_type": "display_data"
    }
   ],
   "source": [
    "import numpy as np\n",
    "#Used to calculate the confusion matrix\n",
    "y_true = []\n",
    "y_pred = []\n",
    "\n",
    "for X, y in train_dataloader:\n",
    "    y_true.extend(y.data.cpu().numpy())\n",
    "    X, y = X.to(device), y.to(device)\n",
    "    pred = model(X)\n",
    "    pred = pred.softmax(dim=1)\n",
    "    y_pred.extend(pred.data.cpu().numpy())\n",
    "    \n",
    "y_pred = np.array(y_pred)\n",
    "y_true = np.array(y_true)\n",
    "seuil = 0.90\n",
    "indices = y_pred.max(1) > seuil\n",
    "\n",
    "print(\"Accuracy avant: \", np.where(y_pred.argmax(1) == y_true, 1, 0).mean())\n",
    "y_pred = y_pred[indices].argmax(1)\n",
    "y_true = y_true[indices]\n",
    "print(\"Accuracy après: \", np.where(y_pred == y_true, 1, 0).mean())\n",
    "\n",
    "conf_matrix = confusion_matrix(y_true, y_pred)\n",
    "disp = ConfusionMatrixDisplay(confusion_matrix=conf_matrix, display_labels = classes)\n",
    "disp.plot()\n",
    "\n",
    "print(\"pred restantes: \", sum(indices))\n",
    "print(\"pred supprimees: \", sum(False == indices))\n",
    "print(\"pourcentage restant: \", sum(indices)/len(indices))\n",
    "\n",
    "\n",
    "plt.show()\n",
    "\n"
   ]
  },
  {
   "cell_type": "code",
   "execution_count": 2,
   "id": "8670380e",
   "metadata": {},
   "outputs": [
    {
     "ename": "NameError",
     "evalue": "name 'model' is not defined",
     "output_type": "error",
     "traceback": [
      "\u001b[1;31m---------------------------------------------------------------------------\u001b[0m",
      "\u001b[1;31mNameError\u001b[0m                                 Traceback (most recent call last)",
      "Cell \u001b[1;32mIn[2], line 2\u001b[0m\n\u001b[0;32m      1\u001b[0m \u001b[39m# save model\u001b[39;00m\n\u001b[1;32m----> 2\u001b[0m torch\u001b[39m.\u001b[39msave(model\u001b[39m.\u001b[39mstate_dict(), \u001b[39m\"\u001b[39m\u001b[39m./models/model\u001b[39m\u001b[39m\"\u001b[39m)\n",
      "\u001b[1;31mNameError\u001b[0m: name 'model' is not defined"
     ]
    }
   ],
   "source": [
    "# save model\n",
    "torch.save(model.state_dict(), \"./models/model\")"
   ]
  },
  {
   "cell_type": "markdown",
   "id": "fde0fef2",
   "metadata": {},
   "source": [
    "# Load Model"
   ]
  },
  {
   "cell_type": "code",
   "execution_count": 8,
   "id": "9edd7826",
   "metadata": {},
   "outputs": [
    {
     "data": {
      "text/plain": [
       "<All keys matched successfully>"
      ]
     },
     "execution_count": 8,
     "metadata": {},
     "output_type": "execute_result"
    }
   ],
   "source": [
    "model = LeNet()\n",
    "model.load_state_dict(torch.load(\"models/model\"))"
   ]
  },
  {
   "cell_type": "code",
   "execution_count": 2,
   "id": "6523d0a0",
   "metadata": {},
   "outputs": [],
   "source": [
    "image_transform = transforms.Compose([\n",
    "    transforms.Resize((64, 64)),\n",
    "    transforms.ToTensor(),\n",
    "    transforms.Normalize(mean=[0.485, 0.456, 0.406], std=[0.229, 0.224, 0.225])\n",
    "    ])"
   ]
  },
  {
   "cell_type": "code",
   "execution_count": 10,
   "id": "5937d379",
   "metadata": {},
   "outputs": [],
   "source": [
    "from PIL import Image\n",
    "import numpy as np"
   ]
  },
  {
   "cell_type": "code",
   "execution_count": 9,
   "id": "40446cfb",
   "metadata": {},
   "outputs": [
    {
     "ename": "NameError",
     "evalue": "name 'np' is not defined",
     "output_type": "error",
     "traceback": [
      "\u001b[1;31m---------------------------------------------------------------------------\u001b[0m",
      "\u001b[1;31mNameError\u001b[0m                                 Traceback (most recent call last)",
      "Cell \u001b[1;32mIn[9], line 1\u001b[0m\n\u001b[1;32m----> 1\u001b[0m image \u001b[39m=\u001b[39m np\u001b[39m.\u001b[39mones((\u001b[39m1280\u001b[39m,\u001b[39m480\u001b[39m,\u001b[39m3\u001b[39m))\u001b[39m.\u001b[39mastype(np\u001b[39m.\u001b[39muint8)\n\u001b[0;32m      2\u001b[0m image \u001b[39m=\u001b[39m Image\u001b[39m.\u001b[39mfromarray(image)\n\u001b[0;32m      3\u001b[0m x \u001b[39m=\u001b[39m image_transform(image)\u001b[39m.\u001b[39mreshape((\u001b[39m1\u001b[39m,\u001b[39m3\u001b[39m,\u001b[39m64\u001b[39m,\u001b[39m64\u001b[39m))\n",
      "\u001b[1;31mNameError\u001b[0m: name 'np' is not defined"
     ]
    }
   ],
   "source": [
    "image = np.ones((1280,480,3)).astype(np.uint8)\n",
    "image = Image.fromarray(image)\n",
    "x = image_transform(image).reshape((1,3,64,64))\n",
    "print(x.shape)\n",
    "model(x)"
   ]
  },
  {
   "cell_type": "code",
   "execution_count": 11,
   "id": "3cbe313b",
   "metadata": {},
   "outputs": [
    {
     "data": {
      "text/plain": [
       "Dataset ImageFolder\n",
       "    Number of datapoints: 1000\n",
       "    Root location: data/\n",
       "    StandardTransform\n",
       "Transform: Compose(\n",
       "               Resize(size=(64, 64), interpolation=bilinear, max_size=None, antialias=warn)\n",
       "               ToTensor()\n",
       "               Normalize(mean=[0.485, 0.456, 0.406], std=[0.229, 0.224, 0.225])\n",
       "           )"
      ]
     },
     "execution_count": 11,
     "metadata": {},
     "output_type": "execute_result"
    }
   ],
   "source": [
    "paired_dir = 'data/'\n",
    "batch_size = 100\n",
    "\n",
    "image_transform = transforms.Compose([\n",
    "    transforms.Resize((64, 64)),\n",
    "    transforms.ToTensor(),\n",
    "    transforms.Normalize(mean=[0.485, 0.456, 0.406], std=[0.229, 0.224, 0.225])\n",
    "])\n",
    "\n",
    "dataset = datasets.ImageFolder(root=paired_dir, transform=image_transform)\n",
    "train_dataloader = torch.utils.data.DataLoader(dataset, batch_size=batch_size, shuffle=True)\n"
   ]
  },
  {
   "cell_type": "code",
   "execution_count": 21,
   "id": "c81f289c",
   "metadata": {},
   "outputs": [],
   "source": [
    "y_true = []\n",
    "y_pred = []\n",
    "X1 = []\n",
    "\n",
    "for X, y in train_dataloader:\n",
    "    y_true.extend(y.data.cpu().numpy())\n",
    "    X, y = X.to(device), y.to(device)\n",
    "    pred = model(X)\n",
    "    pred = pred.softmax(dim=1)\n",
    "    y_pred.extend(pred.data.cpu().numpy())\n",
    "    X1.extend(X.data.cpu().numpy())\n",
    "\n",
    "X1 = np.array(X1)\n",
    "X1 = X1.transpose((0,2,3,1))\n",
    "y_pred = np.array(y_pred)\n",
    "y_true = np.array(y_true)"
   ]
  },
  {
   "cell_type": "code",
   "execution_count": 24,
   "id": "a2de6a52",
   "metadata": {},
   "outputs": [
    {
     "name": "stderr",
     "output_type": "stream",
     "text": [
      "Clipping input data to the valid range for imshow with RGB data ([0..1] for floats or [0..255] for integers).\n"
     ]
    },
    {
     "name": "stdout",
     "output_type": "stream",
     "text": [
      "0\n"
     ]
    },
    {
     "data": {
      "image/png": "[encoded data removed]",
      "text/plain": [
       "<Figure size 640x480 with 1 Axes>"
      ]
     },
     "metadata": {},
     "output_type": "display_data"
    },
    {
     "name": "stderr",
     "output_type": "stream",
     "text": [
      "Clipping input data to the valid range for imshow with RGB data ([0..1] for floats or [0..255] for integers).\n"
     ]
    },
    {
     "name": "stdout",
     "output_type": "stream",
     "text": [
      "1\n"
     ]
    },
    {
     "data": {
      "image/png": "[encoded data removed]",
      "text/plain": [
       "<Figure size 640x480 with 1 Axes>"
      ]
     },
     "metadata": {},
     "output_type": "display_data"
    },
    {
     "name": "stderr",
     "output_type": "stream",
     "text": [
      "Clipping input data to the valid range for imshow with RGB data ([0..1] for floats or [0..255] for integers).\n"
     ]
    },
    {
     "name": "stdout",
     "output_type": "stream",
     "text": [
      "2\n"
     ]
    },
    {
     "data": {
      "image/png": "[encoded data removed]",
      "text/plain": [
       "<Figure size 640x480 with 1 Axes>"
      ]
     },
     "metadata": {},
     "output_type": "display_data"
    },
    {
     "name": "stderr",
     "output_type": "stream",
     "text": [
      "Clipping input data to the valid range for imshow with RGB data ([0..1] for floats or [0..255] for integers).\n"
     ]
    },
    {
     "name": "stdout",
     "output_type": "stream",
     "text": [
      "3\n"
     ]
    },
    {
     "data": {
      "image/png": "[encoded data removed]",
      "text/plain": [
       "<Figure size 640x480 with 1 Axes>"
      ]
     },
     "metadata": {},
     "output_type": "display_data"
    }
   ],
   "source": [
    "for y in range(4):\n",
    "    i = np.where(y_true == y)[0][0]\n",
    "    print(y)\n",
    "    plt.imshow(X1[i])\n",
    "    plt.show()"
   ]
  },
  {
   "cell_type": "code",
   "execution_count": null,
   "id": "d781e211",
   "metadata": {},
   "outputs": [],
   "source": []
  }
 ],
 "metadata": {
  "kernelspec": {
   "display_name": "Python 3 (ipykernel)",
   "language": "python",
   "name": "python3"
  },
  "language_info": {
   "codemirror_mode": {
    "name": "ipython",
    "version": 3
   },
   "file_extension": ".py",
   "mimetype": "text/x-python",
   "name": "python",
   "nbconvert_exporter": "python",
   "pygments_lexer": "ipython3",
   "version": "3.10.9"
  }
 },
 "nbformat": 4,
 "nbformat_minor": 5
}
