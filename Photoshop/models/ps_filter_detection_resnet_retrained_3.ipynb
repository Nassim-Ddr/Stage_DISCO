{
 "cells": [
  {
   "cell_type": "markdown",
   "metadata": {},
   "source": [
    "# Imports & setup"
   ]
  },
  {
   "cell_type": "code",
   "execution_count": 1,
   "metadata": {},
   "outputs": [],
   "source": [
    "%load_ext autoreload\n",
    "%autoreload 2\n",
    "\n",
    "from utils import *\n",
    "from models import *\n",
    "import torch\n",
    "from torch import nn\n",
    "from torchvision import datasets\n",
    "import matplotlib.pyplot as plt\n",
    "from torchvision.transforms import transforms\n",
    "from torch import nn\n",
    "from sklearn.model_selection import train_test_split\n",
    "from sklearn.metrics import ConfusionMatrixDisplay\n",
    "import matplotlib.pyplot as plt\n",
    "from torchvision.models import ResNet50_Weights"
   ]
  },
  {
   "cell_type": "code",
   "execution_count": 2,
   "metadata": {},
   "outputs": [],
   "source": [
    "weights = ResNet50_Weights.DEFAULT\n",
    "preprocess = weights.transforms()"
   ]
  },
  {
   "cell_type": "markdown",
   "metadata": {},
   "source": [
    "# Training"
   ]
  },
  {
   "cell_type": "code",
   "execution_count": 4,
   "metadata": {},
   "outputs": [],
   "source": [
    "model_resnet_1 = ResNet()\n",
    "model_resnet_2 = ResNet()\n",
    "model_resnet_3 = ResNet()\n"
   ]
  },
  {
   "cell_type": "markdown",
   "metadata": {},
   "source": [
    "## Phase 1 : On Player dataset"
   ]
  },
  {
   "cell_type": "code",
   "execution_count": null,
   "metadata": {},
   "outputs": [],
   "source": [
    "path_pair_img = '../data/photoshoptest'\n",
    "dataset = datasets.ImageFolder(root=path_pair_img, transform=preprocess)"
   ]
  },
  {
   "cell_type": "code",
   "execution_count": null,
   "metadata": {},
   "outputs": [],
   "source": [
    "epochs = 20\n",
    "torch.cuda.empty_cache()\n",
    "\n",
    "for i in range(1):\n",
    "    loss_fn = nn.CrossEntropyLoss()\n",
    "    optimizer = torch.optim.Adam(model_resnet_1.parameters(), lr=1e-3)\n",
    "    \n",
    "    lengths = [0.1,0.9]\n",
    "    _, sub_dataset_1 = torch.utils.data.random_split(dataset, lengths)\n",
    "    train_dataloader = torch.utils.data.DataLoader(\n",
    "        sub_dataset_1,\n",
    "        batch_size=5,\n",
    "        shuffle=True\n",
    "    )\n",
    "    print(\"CrossValidation : \"+str(i)+\"\\n-------------------------------\\n\")\n",
    "    \n",
    "\n",
    "\n",
    "    for t in range(epochs):\n",
    "        print(f\"Epoch {t+1}\\n-------------------------------\")\n",
    "        train(train_dataloader, model_resnet_1, loss_fn, optimizer)\n",
    "    print(\"Done!\")\n",
    "\n"
   ]
  },
  {
   "cell_type": "code",
   "execution_count": null,
   "metadata": {},
   "outputs": [],
   "source": [
    "epochs = 20\n",
    "torch.cuda.empty_cache()\n",
    "\n",
    "for i in range(1):\n",
    "    loss_fn = nn.CrossEntropyLoss()\n",
    "    optimizer = torch.optim.Adam(model_resnet_2.parameters(), lr=1e-3)\n",
    "\n",
    "    lengths = [0.1,0.9]\n",
    "    _, sub_dataset_2 = torch.utils.data.random_split(dataset, lengths)\n",
    "    train_dataloader = torch.utils.data.DataLoader(\n",
    "        sub_dataset_2,\n",
    "        batch_size=5,\n",
    "        shuffle=True\n",
    "    )\n",
    "\n",
    "    print(\"CrossValidation : \"+str(i)+\"\\n-------------------------------\\n\")\n",
    "    \n",
    "    for t in range(epochs):\n",
    "        print(f\"Epoch {t+1}\\n-------------------------------\")\n",
    "        train(train_dataloader, model_resnet_2, loss_fn, optimizer)\n",
    "    print(\"Done!\")\n",
    "\n"
   ]
  },
  {
   "cell_type": "code",
   "execution_count": null,
   "metadata": {},
   "outputs": [],
   "source": [
    "epochs = 20\n",
    "torch.cuda.empty_cache()\n",
    "\n",
    "for i in range(1):\n",
    "    loss_fn = nn.CrossEntropyLoss()\n",
    "    optimizer = torch.optim.Adam(model_resnet_3.parameters(), lr=1e-3)\n",
    "\n",
    "    lengths = [0.1,0.9]\n",
    "    _, sub_dataset_3 = torch.utils.data.random_split(dataset, lengths)\n",
    "    train_dataloader = torch.utils.data.DataLoader(\n",
    "        sub_dataset_3,\n",
    "        batch_size=5,\n",
    "        shuffle=True\n",
    "    )\n",
    "\n",
    "    print(\"CrossValidation : \"+str(i)+\"\\n-------------------------------\\n\")\n",
    "    \n",
    "    for t in range(epochs):\n",
    "        print(f\"Epoch {t+1}\\n-------------------------------\")\n",
    "        train(train_dataloader, model_resnet_3, loss_fn, optimizer)\n",
    "    print(\"Done!\")\n",
    "\n"
   ]
  },
  {
   "cell_type": "code",
   "execution_count": 5,
   "metadata": {},
   "outputs": [],
   "source": [
    "torch.save(model_resnet_1.state_dict(), \"./model_Resnet_todelete\")"
   ]
  },
  {
   "cell_type": "markdown",
   "metadata": {},
   "source": [
    "## Phase 2 : On handmade dataset"
   ]
  },
  {
   "cell_type": "code",
   "execution_count": null,
   "metadata": {},
   "outputs": [],
   "source": [
    "path_pair_img = '../data/photoshoptest_handmade'\n",
    "dataset_handmade = datasets.ImageFolder(root=path_pair_img, transform=preprocess)"
   ]
  },
  {
   "cell_type": "code",
   "execution_count": null,
   "metadata": {},
   "outputs": [],
   "source": [
    "epochs = 20\n",
    "torch.cuda.empty_cache()\n",
    "\n",
    "for i in range(1):\n",
    "    loss_fn = nn.CrossEntropyLoss()\n",
    "    optimizer = torch.optim.Adam(model_resnet_1.parameters(), lr=1e-3)\n",
    "    \n",
    "    lengths = [0.1,0.9]\n",
    "    _, sub_dataset_handmade_1 = torch.utils.data.random_split(dataset_handmade, lengths)\n",
    "    train_dataloader = torch.utils.data.DataLoader(\n",
    "        sub_dataset_handmade_1,\n",
    "        batch_size=5,\n",
    "        shuffle=True\n",
    "    )\n",
    "    print(\"CrossValidation : \"+str(i)+\"\\n-------------------------------\\n\")\n",
    "    \n",
    "\n",
    "\n",
    "    for t in range(epochs):\n",
    "        print(f\"Epoch {t+1}\\n-------------------------------\")\n",
    "        train(train_dataloader, model_resnet_1, loss_fn, optimizer)\n",
    "    print(\"Done!\")\n",
    "\n"
   ]
  },
  {
   "cell_type": "code",
   "execution_count": null,
   "metadata": {},
   "outputs": [],
   "source": [
    "epochs = 20\n",
    "torch.cuda.empty_cache()\n",
    "\n",
    "for i in range(1):\n",
    "    loss_fn = nn.CrossEntropyLoss()\n",
    "    optimizer = torch.optim.Adam(model_resnet_2.parameters(), lr=1e-3)\n",
    "    \n",
    "    lengths = [0.1,0.9]\n",
    "    _, sub_dataset_handmade_2 = torch.utils.data.random_split(dataset_handmade, lengths)\n",
    "    train_dataloader = torch.utils.data.DataLoader(\n",
    "        sub_dataset_handmade_2,\n",
    "        batch_size=5,\n",
    "        shuffle=True\n",
    "    )\n",
    "    print(\"CrossValidation : \"+str(i)+\"\\n-------------------------------\\n\")\n",
    "    \n",
    "\n",
    "\n",
    "    for t in range(epochs):\n",
    "        print(f\"Epoch {t+1}\\n-------------------------------\")\n",
    "        train(train_dataloader, model_resnet_2, loss_fn, optimizer)\n",
    "    print(\"Done!\")\n",
    "\n"
   ]
  },
  {
   "cell_type": "code",
   "execution_count": null,
   "metadata": {},
   "outputs": [],
   "source": [
    "epochs = 20\n",
    "torch.cuda.empty_cache()\n",
    "\n",
    "for i in range(1):\n",
    "    loss_fn = nn.CrossEntropyLoss()\n",
    "    optimizer = torch.optim.Adam(model_resnet_3.parameters(), lr=1e-3)\n",
    "    \n",
    "    lengths = [0.1,0.9]\n",
    "    _, sub_dataset_handmade_3 = torch.utils.data.random_split(dataset_handmade, lengths)\n",
    "    train_dataloader = torch.utils.data.DataLoader(\n",
    "        sub_dataset_handmade_3,\n",
    "        batch_size=5,\n",
    "        shuffle=True\n",
    "    )\n",
    "    print(\"CrossValidation : \"+str(i)+\"\\n-------------------------------\\n\")\n",
    "    \n",
    "\n",
    "\n",
    "    for t in range(epochs):\n",
    "        print(f\"Epoch {t+1}\\n-------------------------------\")\n",
    "        train(train_dataloader, model_resnet_3, loss_fn, optimizer)\n",
    "    print(\"Done!\")\n",
    "\n"
   ]
  },
  {
   "cell_type": "code",
   "execution_count": null,
   "metadata": {},
   "outputs": [],
   "source": [
    "epochs = 20\n",
    "torch.cuda.empty_cache()\n",
    "\n",
    "for i in range(1):\n",
    "    loss_fn = nn.CrossEntropyLoss()\n",
    "    optimizer = torch.optim.Adam(model_resnet_1.parameters(), lr=1e-3)\n",
    "    \n",
    "    lengths = [0.1,0.9]\n",
    "    _, sub_dataset_handmade_1 = torch.utils.data.random_split(dataset_handmade, lengths)\n",
    "    train_dataloader = torch.utils.data.DataLoader(\n",
    "        sub_dataset_handmade_1,\n",
    "        batch_size=5,\n",
    "        shuffle=True\n",
    "    )\n",
    "    print(\"CrossValidation : \"+str(i)+\"\\n-------------------------------\\n\")\n",
    "    \n",
    "\n",
    "\n",
    "    for t in range(epochs):\n",
    "        print(f\"Epoch {t+1}\\n-------------------------------\")\n",
    "        train(train_dataloader, model_resnet_1, loss_fn, optimizer)\n",
    "    print(\"Done!\")\n",
    "\n"
   ]
  },
  {
   "cell_type": "markdown",
   "metadata": {},
   "source": [
    "# Test "
   ]
  },
  {
   "cell_type": "code",
   "execution_count": 3,
   "metadata": {},
   "outputs": [
    {
     "data": {
      "text/plain": [
       "<All keys matched successfully>"
      ]
     },
     "execution_count": 3,
     "metadata": {},
     "output_type": "execute_result"
    }
   ],
   "source": [
    "model_resnet_1 = ResNet()\n",
    "model_resnet_2 = ResNet()\n",
    "model_resnet_3 = ResNet()\n",
    "\n",
    "model_resnet_1.load_state_dict(torch.load(\"./model_resnet_retrained_1\"))\n",
    "model_resnet_2.load_state_dict(torch.load(\"./model_resnet_retrained_2\"))\n",
    "model_resnet_3.load_state_dict(torch.load(\"./model_resnet_retrained_3\"))"
   ]
  },
  {
   "cell_type": "code",
   "execution_count": 4,
   "metadata": {},
   "outputs": [],
   "source": [
    "path_pair_img = '../data/photoshoptest_handmade_test'\n",
    "\n",
    "dataset = datasets.ImageFolder(root=path_pair_img, transform=preprocess)\n",
    "\n",
    "test_dataloader = torch.utils.data.DataLoader(\n",
    "    dataset,\n",
    "    batch_size=5,\n",
    "    shuffle=False\n",
    ")"
   ]
  },
  {
   "cell_type": "code",
   "execution_count": 5,
   "metadata": {},
   "outputs": [],
   "source": [
    "y_true, y_score = test_resnet_3(test_dataloader, model_resnet_1, model_resnet_2, model_resnet_3)"
   ]
  },
  {
   "cell_type": "code",
   "execution_count": 6,
   "metadata": {},
   "outputs": [],
   "source": [
    "performance = get_performance(y_true, y_score)"
   ]
  },
  {
   "cell_type": "code",
   "execution_count": 7,
   "metadata": {},
   "outputs": [
    {
     "data": {
      "text/plain": [
       "[0.7352941176470589,\n",
       " 0.735294117647059,\n",
       " 0.7352941176470589,\n",
       " 0.7352941176470589,\n",
       " 0.9622208931419458,\n",
       " array([[ 2,  0,  0,  0,  0,  0,  0,  0],\n",
       "        [ 0,  2,  0,  0,  0,  0,  0,  0],\n",
       "        [ 0,  0, 20,  0,  0,  0,  2,  0],\n",
       "        [ 0,  0,  1,  9,  0,  3,  9,  0],\n",
       "        [ 0,  0,  0,  0, 20,  1,  1,  0],\n",
       "        [ 0,  0,  0,  0,  2, 17,  3,  0],\n",
       "        [ 0,  0,  0,  3,  0,  3, 14,  2],\n",
       "        [ 0,  0,  1,  2,  1,  1,  1, 16]], dtype=int64),\n",
       " array([ 0,  0,  2,  5,  3,  8, 16,  2], dtype=int64),\n",
       " array([ 0,  0,  2, 13,  2,  5,  8,  6], dtype=int64),\n",
       " array([ 2,  2, 20,  9, 20, 17, 14, 16], dtype=int64),\n",
       " array([134, 134, 112, 109, 111, 106,  98, 112], dtype=int64)]"
      ]
     },
     "execution_count": 7,
     "metadata": {},
     "output_type": "execute_result"
    }
   ],
   "source": [
    "#output : \n",
    "#   [accuracy, \n",
    "#   f1, \n",
    "#   precision, \n",
    "#   recall, \n",
    "#   roc_auc, \n",
    "#   conf_mat, \n",
    "#   fp, \n",
    "#   fn, \n",
    "#   tp, \n",
    "#   tn]\n",
    "performance"
   ]
  },
  {
   "cell_type": "code",
   "execution_count": 8,
   "metadata": {},
   "outputs": [
    {
     "data": {
      "image/png": "[encoded data removed]",
      "text/plain": [
       "<Figure size 640x480 with 2 Axes>"
      ]
     },
     "metadata": {},
     "output_type": "display_data"
    }
   ],
   "source": [
    "conf_matrix = performance[5]\n",
    "labels = [\"Diffuse\", \"Edges\", \"Guassian\", \"pinch\", \"Sharpen\", \"Surface\", \"Twirl\", \"Wave\"]\n",
    "disp = ConfusionMatrixDisplay(confusion_matrix=conf_matrix, display_labels = labels)\n",
    "disp.plot()\n",
    "plt.xticks(rotation = 45) \n",
    "plt.show()"
   ]
  },
  {
   "cell_type": "code",
   "execution_count": null,
   "metadata": {},
   "outputs": [],
   "source": []
  }
 ],
 "metadata": {
  "kernelspec": {
   "display_name": "Python 3",
   "language": "python",
   "name": "python3"
  },
  "language_info": {
   "codemirror_mode": {
    "name": "ipython",
    "version": 3
   },
   "file_extension": ".py",
   "mimetype": "text/x-python",
   "name": "python",
   "nbconvert_exporter": "python",
   "pygments_lexer": "ipython3",
   "version": "3.11.4"
  },
  "orig_nbformat": 4
 },
 "nbformat": 4,
 "nbformat_minor": 2
}
