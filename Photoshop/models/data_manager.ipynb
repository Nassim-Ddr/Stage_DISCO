{
 "cells": [
  {
   "cell_type": "code",
   "execution_count": 1,
   "metadata": {},
   "outputs": [],
   "source": [
    "%load_ext autoreload\n",
    "%autoreload 2\n",
    "\n",
    "from utils import *"
   ]
  },
  {
   "cell_type": "markdown",
   "metadata": {},
   "source": [
    "# Generate pairs"
   ]
  },
  {
   "cell_type": "code",
   "execution_count": 2,
   "metadata": {},
   "outputs": [],
   "source": [
    "path_imgs_org = r'../data/portraits_handmade_test/'                 #Folder of the images NOT edited (orignals)\n",
    "path_imgs_edt = r'../data/Player_output/handmade_test/'             #Folder with the edited images (name= original_name_filter_name.jpg)\n",
    "\n",
    "d_imgs, d_edited_names = generate_imgs_dict(path_imgs_org, path_imgs_edt)\n",
    "\n",
    "save_path = r\"../data/pair_tmp/\"\n",
    "\n",
    "generate_pair_imgs(d_imgs, d_edited_names, save_path)"
   ]
  },
  {
   "cell_type": "markdown",
   "metadata": {},
   "source": [
    "# Generate cropped pairs"
   ]
  },
  {
   "cell_type": "code",
   "execution_count": 4,
   "metadata": {},
   "outputs": [
    {
     "name": "stdout",
     "output_type": "stream",
     "text": [
      "No edited areas found. Try chaning the size.\n",
      "No edited areas found. Try chaning the size.\n",
      "No edited areas found. Try chaning the size.\n",
      "No edited areas found. Try chaning the size.\n",
      "No edited areas found. Try chaning the size.\n",
      "No edited areas found. Try chaning the size.\n",
      "No edited areas found. Try chaning the size.\n",
      "No edited areas found. Try chaning the size.\n",
      "No edited areas found. Try chaning the size.\n",
      "No edited areas found. Try chaning the size.\n",
      "No edited areas found. Try chaning the size.\n",
      "No edited areas found. Try chaning the size.\n",
      "No edited areas found. Try chaning the size.\n",
      "No edited areas found. Try chaning the size.\n",
      "No edited areas found. Try chaning the size.\n",
      "No edited areas found. Try chaning the size.\n",
      "No edited areas found. Try chaning the size.\n",
      "No edited areas found. Try chaning the size.\n",
      "No edited areas found. Try chaning the size.\n",
      "No edited areas found. Try chaning the size.\n",
      "No edited areas found. Try chaning the size.\n",
      "No edited areas found. Try chaning the size.\n",
      "No edited areas found. Try chaning the size.\n",
      "No edited areas found. Try chaning the size.\n",
      "No edited areas found. Try chaning the size.\n",
      "No edited areas found. Try chaning the size.\n",
      "No edited areas found. Try chaning the size.\n",
      "No edited areas found. Try chaning the size.\n",
      "No edited areas found. Try chaning the size.\n",
      "No edited areas found. Try chaning the size.\n",
      "No edited areas found. Try chaning the size.\n"
     ]
    }
   ],
   "source": [
    "path_imgs_org = r'../data/portraits_handmade_test/'                 #Folder of the images NOT edited (orignals)\n",
    "path_imgs_edt = r'../data/Player_output/handmade_test/'             #Folder with the edited images (name= original_name_filter_name.jpg)\n",
    "\n",
    "d_imgs, d_edited_names = generate_imgs_dict(path_imgs_org, path_imgs_edt)\n",
    "\n",
    "save_path = r\"../data/pair_tmp/\"\n",
    "\n",
    "min_area=70             #Minimum area of the image (in pxels)\n",
    "threshold=30            #The minimal distance between each pixel to consider them different (0 - 255)\n",
    "scale_factor=1.5        #Factor to multiply the width and height of each bounding box to take more or less context\n",
    "\n",
    "generate_pair_imgs_cropped(d_edited_names, path_imgs_org, path_imgs_edt, save_path, min_area, threshold, scale_factor)"
   ]
  },
  {
   "cell_type": "code",
   "execution_count": null,
   "metadata": {},
   "outputs": [],
   "source": []
  }
 ],
 "metadata": {
  "kernelspec": {
   "display_name": "Python 3",
   "language": "python",
   "name": "python3"
  },
  "language_info": {
   "codemirror_mode": {
    "name": "ipython",
    "version": 3
   },
   "file_extension": ".py",
   "mimetype": "text/x-python",
   "name": "python",
   "nbconvert_exporter": "python",
   "pygments_lexer": "ipython3",
   "version": "3.11.4"
  },
  "orig_nbformat": 4
 },
 "nbformat": 4,
 "nbformat_minor": 2
}
