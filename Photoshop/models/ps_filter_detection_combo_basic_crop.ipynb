{
 "cells": [
  {
   "cell_type": "markdown",
   "metadata": {},
   "source": [
    "# Imports & setup"
   ]
  },
  {
   "cell_type": "code",
   "execution_count": 1,
   "metadata": {},
   "outputs": [],
   "source": [
    "%load_ext autoreload\n",
    "%autoreload 2\n",
    "\n",
    "from utils import *\n",
    "from models import *\n",
    "import torch\n",
    "from torch import nn\n",
    "from torchvision import datasets\n",
    "import matplotlib.pyplot as plt\n",
    "from torchvision.transforms import transforms\n",
    "from torch import nn\n",
    "from sklearn.model_selection import train_test_split\n",
    "from sklearn.metrics import ConfusionMatrixDisplay\n",
    "import matplotlib.pyplot as plt\n",
    "import cv2\n",
    "import numpy as np"
   ]
  },
  {
   "cell_type": "code",
   "execution_count": 2,
   "metadata": {},
   "outputs": [],
   "source": [
    "image_transform = transforms.Compose([\n",
    "    transforms.Resize((224, 224)),\n",
    "    transforms.ToTensor(),\n",
    "    transforms.Normalize(mean=[0.485, 0.456, 0.406], std=[0.229, 0.224, 0.225])\n",
    "])"
   ]
  },
  {
   "cell_type": "markdown",
   "metadata": {},
   "source": [
    "# Test "
   ]
  },
  {
   "cell_type": "code",
   "execution_count": 3,
   "metadata": {},
   "outputs": [
    {
     "data": {
      "text/plain": [
       "LeNet(\n",
       "  (conv1): Conv2d(3, 6, kernel_size=(5, 5), stride=(1, 1), padding=(2, 2))\n",
       "  (conv2): Conv2d(6, 16, kernel_size=(5, 5), stride=(1, 1))\n",
       "  (fc1): Linear(in_features=46656, out_features=120, bias=True)\n",
       "  (fc2): Linear(in_features=120, out_features=84, bias=True)\n",
       "  (fc3): Linear(in_features=84, out_features=8, bias=True)\n",
       ")"
      ]
     },
     "execution_count": 3,
     "metadata": {},
     "output_type": "execute_result"
    }
   ],
   "source": [
    "model_crop = LeNet().to(device)\n",
    "model_crop.load_state_dict(torch.load(\"./model_retrain_crop\"))\n",
    "model_crop.eval()"
   ]
  },
  {
   "cell_type": "code",
   "execution_count": 4,
   "metadata": {},
   "outputs": [
    {
     "data": {
      "text/plain": [
       "LeNet(\n",
       "  (conv1): Conv2d(3, 6, kernel_size=(5, 5), stride=(1, 1), padding=(2, 2))\n",
       "  (conv2): Conv2d(6, 16, kernel_size=(5, 5), stride=(1, 1))\n",
       "  (fc1): Linear(in_features=46656, out_features=120, bias=True)\n",
       "  (fc2): Linear(in_features=120, out_features=84, bias=True)\n",
       "  (fc3): Linear(in_features=84, out_features=8, bias=True)\n",
       ")"
      ]
     },
     "execution_count": 4,
     "metadata": {},
     "output_type": "execute_result"
    }
   ],
   "source": [
    "model_basic = LeNet().to(device)\n",
    "model_basic.load_state_dict(torch.load(\"./model_retrain\"))\n",
    "model_basic.eval()"
   ]
  },
  {
   "cell_type": "code",
   "execution_count": 11,
   "metadata": {},
   "outputs": [],
   "source": [
    "path_pair_img = '../data/photoshoptest_handmade_test'\n",
    "dataset = datasets.ImageFolder(root=path_pair_img, transform=None)\n",
    "\n",
    "# We don t use a dataloader because we need to have access to the images to find the cropped\n",
    "# subimages to give as an input for the ccropped model"
   ]
  },
  {
   "cell_type": "code",
   "execution_count": 33,
   "metadata": {},
   "outputs": [],
   "source": [
    "# Didn t want to put this in model.py like the other test because we need to change the\n",
    "# data at the same time and seemed too much of a drag to do ;_; \n",
    "\n",
    "y_true = [0, 1]\n",
    "y_score = [[1, 0, 0, 0, 0, 0, 0, 0], [0, 1, 0, 0, 0, 0, 0, 0]]\n",
    "\n",
    "for img, y in dataset : \n",
    "    \n",
    "    img_org, img_edt = np.hsplit(np.array(img), 2)\n",
    "\n",
    "    final_imgs = get_bb(img_org, img_edt)\n",
    "    \n",
    "    class_small_bb = [0, 0, 0, 0, 0, 0, 0, 0]\n",
    "\n",
    "    for final_img in final_imgs : \n",
    "        image_tensor = image_transform(Image.fromarray(final_img)).unsqueeze(0)\n",
    "        image_tensor = image_tensor.cuda()\n",
    "\n",
    "        with torch.no_grad() : \n",
    "            output = model_crop(image_tensor)\n",
    "        _, predicted_class_crop = torch.max(output, 1)\n",
    "        class_small_bb[predicted_class_crop] += 1\n",
    "    \n",
    "    predicted_class_crop = np.argmax(class_small_bb)\n",
    "\n",
    "    image_tensor = image_transform(img).unsqueeze(0)\n",
    "    image_tensor = image_tensor.cuda()\n",
    "    with torch.no_grad() : \n",
    "        score_basic = model_basic(image_tensor)\n",
    "    _, predicted_class = torch.max(score_basic, 1)\n",
    "\n",
    "    if (predicted_class_crop == predicted_class) : \n",
    "        y_true.append(y)\n",
    "        \n",
    "        #Calculate the score based on the two models output : \n",
    "        #Methode 1 : \n",
    "            #Change the vote array into a proba distribution \n",
    "            #Normalize the output of model_basic\n",
    "            #Add the two distribution and normalize again\n",
    "        class_small_bb = np.array(class_small_bb)\n",
    "        score_crop_m = class_small_bb / class_small_bb.sum()\n",
    "        score_basic_m = nnf.softmax(score_basic, dim=1)[0].cpu().numpy()\n",
    "        score_final = score_crop_m + score_basic_m\n",
    "        score_final = score_final / score_final.sum()\n",
    "        y_score.append(list(score_final))"
   ]
  },
  {
   "cell_type": "code",
   "execution_count": 35,
   "metadata": {},
   "outputs": [],
   "source": [
    "performance = get_performance(y_true, y_score)"
   ]
  },
  {
   "cell_type": "code",
   "execution_count": 36,
   "metadata": {},
   "outputs": [
    {
     "data": {
      "text/plain": [
       "[0.6557377049180327,\n",
       " 0.6557377049180327,\n",
       " 0.6557377049180327,\n",
       " 0.6557377049180327,\n",
       " 0.879431393769629,\n",
       " array([[ 1,  0,  0,  0,  0,  0,  0,  0],\n",
       "        [ 0,  2,  0,  0,  0,  0,  0,  0],\n",
       "        [ 0,  0, 17,  0,  0,  0,  0,  0],\n",
       "        [ 0,  0,  0,  4,  0,  0,  0,  1],\n",
       "        [ 0,  0,  0,  1, 12,  0,  0,  3],\n",
       "        [ 0,  0,  1,  2,  0,  0,  1,  1],\n",
       "        [ 0,  0,  0,  0,  0,  0,  0, 10],\n",
       "        [ 0,  0,  0,  1,  0,  0,  0,  4]], dtype=int64),\n",
       " array([ 0,  0,  1,  4,  0,  0,  1, 15], dtype=int64),\n",
       " array([ 0,  0,  0,  1,  4,  5, 10,  1], dtype=int64),\n",
       " array([ 1,  2, 17,  4, 12,  0,  0,  4], dtype=int64),\n",
       " array([60, 59, 43, 52, 45, 56, 50, 41], dtype=int64)]"
      ]
     },
     "execution_count": 36,
     "metadata": {},
     "output_type": "execute_result"
    }
   ],
   "source": [
    "#output : \n",
    "#   [accuracy, \n",
    "#   f1, \n",
    "#   precision, \n",
    "#   recall, \n",
    "#   roc_auc, \n",
    "#   conf_mat, \n",
    "#   fp, \n",
    "#   fn, \n",
    "#   tp, \n",
    "#   tn]\n",
    "performance"
   ]
  },
  {
   "cell_type": "code",
   "execution_count": 37,
   "metadata": {},
   "outputs": [
    {
     "data": {
      "image/png": "[encoded data removed]",
      "text/plain": [
       "<Figure size 640x480 with 2 Axes>"
      ]
     },
     "metadata": {},
     "output_type": "display_data"
    }
   ],
   "source": [
    "conf_matrix = performance[5]\n",
    "labels = [\"Diffuse\", \"Edges\", \"Guassian\", \"pinch\", \"Sharpen\", \"Surface\", \"Twirl\", \"Wave\"]\n",
    "disp = ConfusionMatrixDisplay(confusion_matrix=conf_matrix, display_labels = labels)\n",
    "disp.plot()\n",
    "plt.xticks(rotation = 45) \n",
    "plt.show()"
   ]
  },
  {
   "cell_type": "code",
   "execution_count": null,
   "metadata": {},
   "outputs": [],
   "source": []
  }
 ],
 "metadata": {
  "kernelspec": {
   "display_name": "Python 3",
   "language": "python",
   "name": "python3"
  },
  "language_info": {
   "codemirror_mode": {
    "name": "ipython",
    "version": 3
   },
   "file_extension": ".py",
   "mimetype": "text/x-python",
   "name": "python",
   "nbconvert_exporter": "python",
   "pygments_lexer": "ipython3",
   "version": "3.11.4"
  },
  "orig_nbformat": 4
 },
 "nbformat": 4,
 "nbformat_minor": 2
}
