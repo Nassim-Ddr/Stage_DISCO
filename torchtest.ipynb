{
 "cells": [
  {
   "cell_type": "code",
   "execution_count": 1,
   "id": "a5cb17e2",
   "metadata": {},
   "outputs": [],
   "source": [
    "import torch\n",
    "from torch import nn\n",
    "from torch.utils.data import DataLoader\n",
    "from torchvision import datasets\n",
    "from torchvision.transforms import ToTensor"
   ]
  },
  {
   "cell_type": "code",
   "execution_count": 2,
   "id": "0a4a1597",
   "metadata": {},
   "outputs": [
    {
     "name": "stdout",
     "output_type": "stream",
     "text": [
      "Downloading http://fashion-mnist.s3-website.eu-central-1.amazonaws.com/train-images-idx3-ubyte.gz\n",
      "Downloading http://fashion-mnist.s3-website.eu-central-1.amazonaws.com/train-images-idx3-ubyte.gz to data\\FashionMNIST\\raw\\train-images-idx3-ubyte.gz\n"
     ]
    },
    {
     "name": "stderr",
     "output_type": "stream",
     "text": [
      "100%|██████████| 26421880/26421880 [00:01<00:00, 16096884.09it/s]\n"
     ]
    },
    {
     "name": "stdout",
     "output_type": "stream",
     "text": [
      "Extracting data\\FashionMNIST\\raw\\train-images-idx3-ubyte.gz to data\\FashionMNIST\\raw\n",
      "\n",
      "Downloading http://fashion-mnist.s3-website.eu-central-1.amazonaws.com/train-labels-idx1-ubyte.gz\n",
      "Downloading http://fashion-mnist.s3-website.eu-central-1.amazonaws.com/train-labels-idx1-ubyte.gz to data\\FashionMNIST\\raw\\train-labels-idx1-ubyte.gz\n"
     ]
    },
    {
     "name": "stderr",
     "output_type": "stream",
     "text": [
      "100%|██████████| 29515/29515 [00:00<?, ?it/s]"
     ]
    },
    {
     "name": "stdout",
     "output_type": "stream",
     "text": [
      "Extracting data\\FashionMNIST\\raw\\train-labels-idx1-ubyte.gz to data\\FashionMNIST\\raw\n",
      "\n",
      "Downloading http://fashion-mnist.s3-website.eu-central-1.amazonaws.com/t10k-images-idx3-ubyte.gz\n"
     ]
    },
    {
     "name": "stderr",
     "output_type": "stream",
     "text": [
      "\n"
     ]
    },
    {
     "name": "stdout",
     "output_type": "stream",
     "text": [
      "Downloading http://fashion-mnist.s3-website.eu-central-1.amazonaws.com/t10k-images-idx3-ubyte.gz to data\\FashionMNIST\\raw\\t10k-images-idx3-ubyte.gz\n"
     ]
    },
    {
     "name": "stderr",
     "output_type": "stream",
     "text": [
      "100%|██████████| 4422102/4422102 [00:00<?, ?it/s]\n"
     ]
    },
    {
     "name": "stdout",
     "output_type": "stream",
     "text": [
      "Extracting data\\FashionMNIST\\raw\\t10k-images-idx3-ubyte.gz to data\\FashionMNIST\\raw\n",
      "\n",
      "Downloading http://fashion-mnist.s3-website.eu-central-1.amazonaws.com/t10k-labels-idx1-ubyte.gz\n",
      "Downloading http://fashion-mnist.s3-website.eu-central-1.amazonaws.com/t10k-labels-idx1-ubyte.gz to data\\FashionMNIST\\raw\\t10k-labels-idx1-ubyte.gz\n"
     ]
    },
    {
     "name": "stderr",
     "output_type": "stream",
     "text": [
      "100%|██████████| 5148/5148 [00:00<?, ?it/s]"
     ]
    },
    {
     "name": "stdout",
     "output_type": "stream",
     "text": [
      "Extracting data\\FashionMNIST\\raw\\t10k-labels-idx1-ubyte.gz to data\\FashionMNIST\\raw\n",
      "\n"
     ]
    },
    {
     "name": "stderr",
     "output_type": "stream",
     "text": [
      "\n"
     ]
    }
   ],
   "source": [
    "training_data = datasets.FashionMNIST(\n",
    "    root=\"data\",\n",
    "    train=True,\n",
    "    download=True,\n",
    "    transform=ToTensor(),\n",
    ")\n",
    "\n",
    "test_data = datasets.FashionMNIST(\n",
    "    root=\"data\",\n",
    "    train=False,\n",
    "    download=True,\n",
    "    transform=ToTensor(),\n",
    ")"
   ]
  },
  {
   "cell_type": "code",
   "execution_count": 106,
   "id": "f0dc3a33",
   "metadata": {},
   "outputs": [
    {
     "name": "stdout",
     "output_type": "stream",
     "text": [
      "Shape of X [N, C, H, W]: torch.Size([1, 1, 28, 28])\n",
      "Shape of y: torch.Size([1]) torch.int64\n"
     ]
    }
   ],
   "source": [
    "batch_size = 64\n",
    "\n",
    "# Create data loaders.\n",
    "train_dataloader = DataLoader(training_data)\n",
    "test_dataloader = DataLoader(test_data)\n",
    "\n",
    "for X, y in test_dataloader:\n",
    "    print(f\"Shape of X [N, C, H, W]: {X.shape}\")\n",
    "    print(f\"Shape of y: {y.shape} {y.dtype}\")\n",
    "    break"
   ]
  },
  {
   "cell_type": "code",
   "execution_count": 166,
   "id": "fbf414f8",
   "metadata": {},
   "outputs": [
    {
     "name": "stdout",
     "output_type": "stream",
     "text": [
      "Shape of X [N, W]: torch.Size([1, 2])\n",
      "Shape of y: torch.Size([1]) torch.int64\n"
     ]
    }
   ],
   "source": [
    "from mltools import *\n",
    "from torch.utils.data import TensorDataset\n",
    "\n",
    "Xd,yd = gen_arti(data_type=1)\n",
    "Xt,yt = gen_arti(nbex=400,data_type=1)\n",
    "yd = np.where(yd < 0,0,1)\n",
    "yt = np.where(yt < 0,0,1)\n",
    "mydataset = TensorDataset(torch.Tensor(Xd),torch.Tensor(yd[:,0]).type(torch.LongTensor))\n",
    "mytestset = TensorDataset(torch.Tensor(Xt),torch.Tensor(yt[:,0]).type(torch.LongTensor))\n",
    "\n",
    "\n",
    "train_dataloader = DataLoader(mydataset)\n",
    "test_dataloader = DataLoader(mytestset)\n",
    "\n",
    "\n",
    "for X, y in test_dataloader:\n",
    "    print(f\"Shape of X [N, W]: {X.shape}\")\n",
    "    print(f\"Shape of y: {y.shape} {y.dtype}\")\n",
    "    break"
   ]
  },
  {
   "cell_type": "code",
   "execution_count": 167,
   "id": "dd884164",
   "metadata": {},
   "outputs": [
    {
     "name": "stdout",
     "output_type": "stream",
     "text": [
      "Using cpu device\n"
     ]
    }
   ],
   "source": [
    "device = (\n",
    "    \"cuda\"\n",
    "    if torch.cuda.is_available()\n",
    "    else \"mps\"\n",
    "    if torch.backends.mps.is_available()\n",
    "    else \"cpu\"\n",
    ")\n",
    "print(f\"Using {device} device\")"
   ]
  },
  {
   "cell_type": "code",
   "execution_count": 168,
   "id": "6fc29672",
   "metadata": {},
   "outputs": [],
   "source": [
    "class NeuralNetwork(nn.Module):\n",
    "    def __init__(self):\n",
    "        super().__init__()\n",
    "        #self.flatten = nn.Flatten()\n",
    "        self.linear_relu_stack = nn.Sequential(\n",
    "            #nn.Linear(28*28, 512),\n",
    "            nn.Linear(2, 100),\n",
    "            #nn.Conv2d(1,16,3,stride=2),\n",
    "            #nn.Flatten(),\n",
    "            nn.ReLU(),\n",
    "            #nn.Linear(2704 , 512),\n",
    "            nn.Linear(100 , 40),\n",
    "            nn.ReLU(),\n",
    "            #nn.Linear(512, 10)\n",
    "            nn.Linear(40, 2)\n",
    "        )\n",
    "\n",
    "    def forward(self, x):\n",
    "        #x = self.flatten(x)\n",
    "        logits = self.linear_relu_stack(x)\n",
    "        return logits"
   ]
  },
  {
   "cell_type": "code",
   "execution_count": 169,
   "id": "f7370df3",
   "metadata": {},
   "outputs": [
    {
     "name": "stdout",
     "output_type": "stream",
     "text": [
      "NeuralNetwork(\n",
      "  (linear_relu_stack): Sequential(\n",
      "    (0): Linear(in_features=2, out_features=100, bias=True)\n",
      "    (1): ReLU()\n",
      "    (2): Linear(in_features=100, out_features=40, bias=True)\n",
      "    (3): ReLU()\n",
      "    (4): Linear(in_features=40, out_features=2, bias=True)\n",
      "  )\n",
      ")\n"
     ]
    }
   ],
   "source": [
    "model = NeuralNetwork().to(device)\n",
    "print(model)"
   ]
  },
  {
   "cell_type": "code",
   "execution_count": 170,
   "id": "fdfbe7bc",
   "metadata": {},
   "outputs": [],
   "source": [
    "loss_fn = nn.CrossEntropyLoss()\n",
    "optimizer = torch.optim.SGD(model.parameters(), lr=1e-3)"
   ]
  },
  {
   "cell_type": "code",
   "execution_count": 171,
   "id": "e0b2004b",
   "metadata": {},
   "outputs": [],
   "source": [
    "def train(dataloader, model, loss_fn, optimizer):\n",
    "    size = len(dataloader.dataset)\n",
    "    model.train()\n",
    "    for batch, (X, y) in enumerate(dataloader):\n",
    "        X, y = X.to(device), y.to(device)\n",
    "\n",
    "        # Compute prediction error\n",
    "        pred = model(X)\n",
    "        loss = loss_fn(pred, y)\n",
    "\n",
    "        # Backpropagation\n",
    "        loss.backward()\n",
    "        optimizer.step()\n",
    "        optimizer.zero_grad()\n",
    "\n",
    "        if batch % 100 == 0:\n",
    "            loss, current = loss.item(), (batch + 1) * len(X)\n",
    "            print(f\"loss: {loss:>7f}  [{current:>5d}/{size:>5d}]\")"
   ]
  },
  {
   "cell_type": "code",
   "execution_count": 172,
   "id": "dbcb5f4f",
   "metadata": {},
   "outputs": [],
   "source": [
    "def test(dataloader, model, loss_fn):\n",
    "    size = len(dataloader.dataset)\n",
    "    num_batches = len(dataloader)\n",
    "    model.eval()\n",
    "    test_loss, correct = 0, 0\n",
    "    with torch.no_grad():\n",
    "        for X, y in dataloader:\n",
    "            X, y = X.to(device), y.to(device)\n",
    "            pred = model(X)\n",
    "            test_loss += loss_fn(pred, y).item()\n",
    "            correct += (pred.argmax(1) == y).type(torch.float).sum().item()\n",
    "    test_loss /= num_batches\n",
    "    correct /= size\n",
    "    print(f\"Test Error: \\n Accuracy: {(100*correct):>0.1f}%, Avg loss: {test_loss:>8f} \\n\")"
   ]
  },
  {
   "cell_type": "code",
   "execution_count": 173,
   "id": "c85110ac",
   "metadata": {
    "scrolled": true
   },
   "outputs": [
    {
     "name": "stdout",
     "output_type": "stream",
     "text": [
      "Epoch 1\n",
      "-------------------------------\n",
      "loss: 0.757804  [    1/ 1000]\n",
      "loss: 0.694838  [  101/ 1000]\n",
      "loss: 0.631961  [  201/ 1000]\n",
      "loss: 0.692202  [  301/ 1000]\n",
      "loss: 0.544200  [  401/ 1000]\n",
      "loss: 0.638187  [  501/ 1000]\n",
      "loss: 0.527083  [  601/ 1000]\n",
      "loss: 0.591796  [  701/ 1000]\n",
      "loss: 0.571503  [  801/ 1000]\n",
      "loss: 0.569767  [  901/ 1000]\n",
      "Test Error: \n",
      " Accuracy: 99.2%, Avg loss: 0.492214 \n",
      "\n",
      "Epoch 2\n",
      "-------------------------------\n",
      "loss: 0.408241  [    1/ 1000]\n",
      "loss: 0.423954  [  101/ 1000]\n",
      "loss: 0.449086  [  201/ 1000]\n",
      "loss: 0.496799  [  301/ 1000]\n",
      "loss: 0.413505  [  401/ 1000]\n",
      "loss: 0.371292  [  501/ 1000]\n",
      "loss: 0.385725  [  601/ 1000]\n",
      "loss: 0.432181  [  701/ 1000]\n",
      "loss: 0.389363  [  801/ 1000]\n",
      "loss: 0.389141  [  901/ 1000]\n",
      "Test Error: \n",
      " Accuracy: 99.5%, Avg loss: 0.299723 \n",
      "\n",
      "Epoch 3\n",
      "-------------------------------\n",
      "loss: 0.180750  [    1/ 1000]\n",
      "loss: 0.224594  [  101/ 1000]\n",
      "loss: 0.238096  [  201/ 1000]\n",
      "loss: 0.314934  [  301/ 1000]\n",
      "loss: 0.246194  [  401/ 1000]\n",
      "loss: 0.170846  [  501/ 1000]\n",
      "loss: 0.240057  [  601/ 1000]\n",
      "loss: 0.313015  [  701/ 1000]\n",
      "loss: 0.215015  [  801/ 1000]\n",
      "loss: 0.223978  [  901/ 1000]\n",
      "Test Error: \n",
      " Accuracy: 99.8%, Avg loss: 0.171634 \n",
      "\n",
      "Epoch 4\n",
      "-------------------------------\n",
      "loss: 0.071830  [    1/ 1000]\n",
      "loss: 0.115951  [  101/ 1000]\n",
      "loss: 0.114299  [  201/ 1000]\n",
      "loss: 0.192835  [  301/ 1000]\n",
      "loss: 0.146065  [  401/ 1000]\n",
      "loss: 0.077398  [  501/ 1000]\n",
      "loss: 0.153220  [  601/ 1000]\n",
      "loss: 0.231877  [  701/ 1000]\n",
      "loss: 0.120530  [  801/ 1000]\n",
      "loss: 0.132655  [  901/ 1000]\n",
      "Test Error: \n",
      " Accuracy: 99.8%, Avg loss: 0.107578 \n",
      "\n",
      "Epoch 5\n",
      "-------------------------------\n",
      "loss: 0.032272  [    1/ 1000]\n",
      "loss: 0.064433  [  101/ 1000]\n",
      "loss: 0.060908  [  201/ 1000]\n",
      "loss: 0.125141  [  301/ 1000]\n",
      "loss: 0.092049  [  401/ 1000]\n",
      "loss: 0.039409  [  501/ 1000]\n",
      "loss: 0.104293  [  601/ 1000]\n",
      "loss: 0.178631  [  701/ 1000]\n",
      "loss: 0.074177  [  801/ 1000]\n",
      "loss: 0.085271  [  901/ 1000]\n",
      "Test Error: \n",
      " Accuracy: 99.8%, Avg loss: 0.074800 \n",
      "\n",
      "Epoch 6\n",
      "-------------------------------\n",
      "loss: 0.016885  [    1/ 1000]\n",
      "loss: 0.039432  [  101/ 1000]\n",
      "loss: 0.036439  [  201/ 1000]\n",
      "loss: 0.087166  [  301/ 1000]\n",
      "loss: 0.062229  [  401/ 1000]\n",
      "loss: 0.022573  [  501/ 1000]\n",
      "loss: 0.075357  [  601/ 1000]\n",
      "loss: 0.143181  [  701/ 1000]\n",
      "loss: 0.049583  [  801/ 1000]\n",
      "loss: 0.059582  [  901/ 1000]\n",
      "Test Error: \n",
      " Accuracy: 99.8%, Avg loss: 0.056190 \n",
      "\n",
      "Epoch 7\n",
      "-------------------------------\n",
      "loss: 0.009930  [    1/ 1000]\n",
      "loss: 0.026217  [  101/ 1000]\n",
      "loss: 0.023759  [  201/ 1000]\n",
      "loss: 0.064143  [  301/ 1000]\n",
      "loss: 0.044486  [  401/ 1000]\n",
      "loss: 0.014317  [  501/ 1000]\n",
      "loss: 0.057019  [  601/ 1000]\n",
      "loss: 0.118733  [  701/ 1000]\n",
      "loss: 0.035585  [  801/ 1000]\n",
      "loss: 0.043792  [  901/ 1000]\n",
      "Test Error: \n",
      " Accuracy: 99.8%, Avg loss: 0.044602 \n",
      "\n",
      "Epoch 8\n",
      "-------------------------------\n",
      "loss: 0.006351  [    1/ 1000]\n",
      "loss: 0.018550  [  101/ 1000]\n",
      "loss: 0.016678  [  201/ 1000]\n",
      "loss: 0.049281  [  301/ 1000]\n",
      "loss: 0.033230  [  401/ 1000]\n",
      "loss: 0.009763  [  501/ 1000]\n",
      "loss: 0.044686  [  601/ 1000]\n",
      "loss: 0.100955  [  701/ 1000]\n",
      "loss: 0.026689  [  801/ 1000]\n",
      "loss: 0.033472  [  901/ 1000]\n",
      "Test Error: \n",
      " Accuracy: 99.8%, Avg loss: 0.036846 \n",
      "\n",
      "Epoch 9\n",
      "-------------------------------\n",
      "loss: 0.004317  [    1/ 1000]\n",
      "loss: 0.013732  [  101/ 1000]\n",
      "loss: 0.012271  [  201/ 1000]\n",
      "loss: 0.039157  [  301/ 1000]\n",
      "loss: 0.025742  [  401/ 1000]\n",
      "loss: 0.007066  [  501/ 1000]\n",
      "loss: 0.036058  [  601/ 1000]\n",
      "loss: 0.087607  [  701/ 1000]\n",
      "loss: 0.020768  [  801/ 1000]\n",
      "loss: 0.026404  [  901/ 1000]\n",
      "Test Error: \n",
      " Accuracy: 99.8%, Avg loss: 0.031357 \n",
      "\n",
      "Epoch 10\n",
      "-------------------------------\n",
      "loss: 0.003072  [    1/ 1000]\n",
      "loss: 0.010537  [  101/ 1000]\n",
      "loss: 0.009369  [  201/ 1000]\n",
      "loss: 0.031873  [  301/ 1000]\n",
      "loss: 0.020499  [  401/ 1000]\n",
      "loss: 0.005329  [  501/ 1000]\n",
      "loss: 0.029764  [  601/ 1000]\n",
      "loss: 0.077201  [  701/ 1000]\n",
      "loss: 0.016602  [  801/ 1000]\n",
      "loss: 0.021348  [  901/ 1000]\n",
      "Test Error: \n",
      " Accuracy: 99.8%, Avg loss: 0.027301 \n",
      "\n",
      "Done!\n"
     ]
    }
   ],
   "source": [
    "epochs = 10\n",
    "for t in range(epochs):\n",
    "    print(f\"Epoch {t+1}\\n-------------------------------\")\n",
    "    train(train_dataloader, model, loss_fn, optimizer)\n",
    "    test(test_dataloader, model, loss_fn)\n",
    "print(\"Done!\")"
   ]
  },
  {
   "cell_type": "code",
   "execution_count": 156,
   "id": "7d14bf2e",
   "metadata": {},
   "outputs": [
    {
     "name": "stdout",
     "output_type": "stream",
     "text": [
      "<torch.utils.data.dataloader.DataLoader object at 0x000002222EFF7EE0>\n"
     ]
    }
   ],
   "source": [
    "print(train_dataloader)"
   ]
  },
  {
   "cell_type": "code",
   "execution_count": null,
   "id": "ac99cd0c",
   "metadata": {},
   "outputs": [],
   "source": [
    "figure = plt.figure(figsize=(8, 8))\n",
    "cols, rows = 3, 3\n",
    "for i in range(1, cols * rows + 1):\n",
    "    sample_idx = torch.randint(len(training_data), size=(1,)).item()\n",
    "    img, label = training_data[sample_idx]\n",
    "    figure.add_subplot(rows, cols, i)\n",
    "    plt.title(labels_map[label])\n",
    "    plt.axis(\"off\")\n",
    "    plt.imshow(img.squeeze(), cmap=\"gray\")\n",
    "plt.show()"
   ]
  }
 ],
 "metadata": {
  "kernelspec": {
   "display_name": "Python 3 (ipykernel)",
   "language": "python",
   "name": "python3"
  },
  "language_info": {
   "codemirror_mode": {
    "name": "ipython",
    "version": 3
   },
   "file_extension": ".py",
   "mimetype": "text/x-python",
   "name": "python",
   "nbconvert_exporter": "python",
   "pygments_lexer": "ipython3",
   "version": "3.10.11"
  }
 },
 "nbformat": 4,
 "nbformat_minor": 5
}
